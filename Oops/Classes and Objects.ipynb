{
 "cells": [
  {
   "cell_type": "markdown",
   "metadata": {},
   "source": [
    "#### Create a Simple Class"
   ]
  },
  {
   "cell_type": "markdown",
   "metadata": {},
   "source": [
    "The class keyword allows you to create a new class."
   ]
  },
  {
   "cell_type": "markdown",
   "metadata": {},
   "source": [
    "#### Example\n",
    "Create a class named Employee, having an indented block of code defining two properties name and age:"
   ]
  },
  {
   "cell_type": "code",
   "execution_count": 1,
   "metadata": {},
   "outputs": [],
   "source": [
    "class Employee:\n",
    "    name = 'John'\n",
    "    age = 26"
   ]
  },
  {
   "cell_type": "markdown",
   "metadata": {},
   "source": [
    "Class names should follow the UpperCaseCamelCase convention."
   ]
  },
  {
   "cell_type": "markdown",
   "metadata": {},
   "source": [
    "#### Create Class Object\n",
    "Creating an object of a class is a simple matter of typing the class name, followed by a pair of parentheses.\n",
    "\n",
    "#### Example\n",
    "The e object is an instance of the Employee class. It has the data attributes described by the Employee class."
   ]
  },
  {
   "cell_type": "code",
   "execution_count": 2,
   "metadata": {},
   "outputs": [
    {
     "name": "stdout",
     "output_type": "stream",
     "text": [
      "John 26\n",
      "<class '__main__.Employee'>\n"
     ]
    }
   ],
   "source": [
    "class Employee:\n",
    "    name = \"John\"\n",
    "    age = 26\n",
    "    \n",
    "e = Employee()\n",
    "print(e.name, e.age)\n",
    "print(type(e))"
   ]
  },
  {
   "cell_type": "markdown",
   "metadata": {},
   "source": [
    "#### Create Class Object\n",
    "Creating an object of a class is a simple matter of typing the class name, followed by a pair of parentheses.\n",
    "\n",
    "#### Example\n",
    "The e object is an instance of the Employee class. It has the data attributes described by the Employee class."
   ]
  },
  {
   "cell_type": "code",
   "execution_count": 3,
   "metadata": {},
   "outputs": [
    {
     "name": "stdout",
     "output_type": "stream",
     "text": [
      "Sam 36\n"
     ]
    }
   ],
   "source": [
    "class Employee:\n",
    "    def __init__(self, name, age):\n",
    "        self.name = name\n",
    "        self.age = age\n",
    "        \n",
    "e = Employee(\"Sam\", 36)\n",
    "print(e.name, e.age)"
   ]
  },
  {
   "cell_type": "markdown",
   "metadata": {},
   "source": [
    "Usually the __init__() method is the first method inside a class definition."
   ]
  },
  {
   "cell_type": "markdown",
   "metadata": {},
   "source": [
    "#### Object Method\n",
    "A method is formatted identically to a function. It starts with the def keyword, followed by a space, and the name of the method. Methods work in exactly the same way as simple functions, with one crucial exception: a method's first argument always receives the instance object. Those methods that do not take any arguments have at least the argument as self."
   ]
  },
  {
   "cell_type": "markdown",
   "metadata": {},
   "source": [
    "#### Example\n",
    "When the method executes, the self parameter will reference the emp object."
   ]
  },
  {
   "cell_type": "code",
   "execution_count": 4,
   "metadata": {},
   "outputs": [
    {
     "name": "stdout",
     "output_type": "stream",
     "text": [
      "Employee name:  Sam\n",
      "Employee age:  36\n"
     ]
    }
   ],
   "source": [
    "class Employee:\n",
    "    def __init__(self, name, age):\n",
    "        self.name = name\n",
    "        self.age = age\n",
    "        \n",
    "    def details(self):\n",
    "        print(\"Employee name: \", self.name)\n",
    "        print(\"Employee age: \", self.age)\n",
    "        \n",
    "emp = Employee(\"Sam\", 36)\n",
    "emp.details()"
   ]
  },
  {
   "cell_type": "markdown",
   "metadata": {},
   "source": [
    "Method names should contain lowercase with words separated by underscores as necessary to improve readability."
   ]
  },
  {
   "cell_type": "markdown",
   "metadata": {},
   "source": [
    "#### Self Parameter\n",
    "The argument self is usually used to refer to object itself. When a method is called, Python makes the self parameter reference the specific object that the method is supposed to operate on."
   ]
  },
  {
   "cell_type": "markdown",
   "metadata": {},
   "source": [
    "#### Example\n",
    "self replaced by selfemployee:"
   ]
  },
  {
   "cell_type": "code",
   "execution_count": 5,
   "metadata": {},
   "outputs": [
    {
     "name": "stdout",
     "output_type": "stream",
     "text": [
      "Employee name:  Sam\n",
      "Employee age:  36\n"
     ]
    }
   ],
   "source": [
    "class Employee:\n",
    "    def __init__(selfemployee, name, age):\n",
    "        selfemployee.name = name\n",
    "        selfemployee.age = age\n",
    "        \n",
    "    def details(selfemployee):\n",
    "        print(\"Employee name: \", selfemployee.name)\n",
    "        print(\"Employee age: \", selfemployee.age)\n",
    "        \n",
    "emp = Employee(\"Sam\", 36)\n",
    "emp.details()"
   ]
  },
  {
   "cell_type": "markdown",
   "metadata": {},
   "source": [
    "You are not required to name it self, but this is strongly recommended as a standard practice."
   ]
  },
  {
   "cell_type": "markdown",
   "metadata": {},
   "source": [
    "#### Delete Object and Property\n",
    "The del keyword allows to delete object or object property followed by object name.\n",
    "\n",
    "#### Example\n",
    "Object property emp1.name and object emp2 deleted:"
   ]
  },
  {
   "cell_type": "code",
   "execution_count": 6,
   "metadata": {},
   "outputs": [],
   "source": [
    "class Employee:\n",
    "    def __init__(self, name, age):\n",
    "        self.name = name\n",
    "        self.age = age\n",
    "        \n",
    "emp1 = Employee(\"Sam\", 36)\n",
    "emp2 = Employee(\"Mark\", 27)\n",
    "\n",
    "del emp1.name #Deleted objects property\n",
    "del emp2 #Objects deleted."
   ]
  },
  {
   "cell_type": "markdown",
   "metadata": {},
   "source": [
    "#### Empty Class\n",
    "The pass keyword allows to create empty class for data storage."
   ]
  },
  {
   "cell_type": "markdown",
   "metadata": {},
   "source": [
    "#### Example\n",
    "Attributes created dynamically:"
   ]
  },
  {
   "cell_type": "code",
   "execution_count": 7,
   "metadata": {},
   "outputs": [],
   "source": [
    "class PermanentEmployee():\n",
    "    pass\n",
    "\n",
    "emp = PermanentEmployee()\n",
    "emp.name = \"Sam\"\n",
    "emp.age = 10"
   ]
  },
  {
   "cell_type": "markdown",
   "metadata": {},
   "source": [
    "#### Python Object Oriented Programming Examples\n",
    "You'll learn how Python implements object-oriented programming (OOP) concepts of abstraction, encapsulation of data, inheritance, and polymorphism.\n",
    "\n",
    "Object-oriented programming is a technique of programming that organizes programs into a collection of reusable objects that interact with each other to offer a solution to a given problem. A program is a collection of objects and objects are reusable entities. An object can be any real time entity which is capable of providing services. The examples of objects are you, me, phone, car, wind, bank account, sales-man, invoice etc."
   ]
  },
  {
   "cell_type": "markdown",
   "metadata": {},
   "source": [
    "#### How to create a Class and it's Object in Python?\n",
    "The class definition starts with the class keyword. This is followed by a class name and is terminated with a colon."
   ]
  },
  {
   "cell_type": "code",
   "execution_count": 1,
   "metadata": {},
   "outputs": [
    {
     "name": "stdout",
     "output_type": "stream",
     "text": [
      "10000\n",
      "John Doe\n"
     ]
    }
   ],
   "source": [
    "class Employee:\n",
    "    salary = 10000\n",
    "    name = \"John Doe\"\n",
    "    \n",
    "emp1 = Employee()\n",
    "print(emp1.salary)\n",
    "print(emp1.name)"
   ]
  },
  {
   "cell_type": "markdown",
   "metadata": {},
   "source": [
    "#### How to create an empty Class in Python?\n",
    "The pass keyword used on the second line indicates an empty class without data attributes and methods."
   ]
  },
  {
   "cell_type": "code",
   "execution_count": 2,
   "metadata": {},
   "outputs": [
    {
     "name": "stdout",
     "output_type": "stream",
     "text": [
      "<__main__.Employee object at 0x0000029AF1950A60>\n",
      "John Doe\n"
     ]
    }
   ],
   "source": [
    "class Employee:\n",
    "    pass\n",
    "\n",
    "e1 = Employee()\n",
    "print(e1)\n",
    "\n",
    "e1.name = \"John Doe\"\n",
    "print(e1.name)"
   ]
  },
  {
   "cell_type": "markdown",
   "metadata": {},
   "source": [
    "##### How to create a Class using type in Python?\n",
    "The type keyword used to create a new class on the fly and then instantiate it."
   ]
  },
  {
   "cell_type": "code",
   "execution_count": 3,
   "metadata": {},
   "outputs": [
    {
     "name": "stdout",
     "output_type": "stream",
     "text": [
      "<__main__.Employee object at 0x0000029AF1950C70>\n",
      "John Doe\n"
     ]
    }
   ],
   "source": [
    "e1 = type('Employee', (), {})()\n",
    "print(e1)\n",
    "\n",
    "e1.name = \"John Doe\"\n",
    "print(e1.name)"
   ]
  },
  {
   "cell_type": "markdown",
   "metadata": {},
   "source": [
    "#### How to create and call Method of a Class in Python?\n",
    "Methods in classes are functions that belong to the class."
   ]
  },
  {
   "cell_type": "code",
   "execution_count": 4,
   "metadata": {},
   "outputs": [
    {
     "name": "stdout",
     "output_type": "stream",
     "text": [
      "10000\n",
      "John Doe\n",
      "1000.0\n"
     ]
    }
   ],
   "source": [
    "class Employee:\n",
    "    salary = 10000\n",
    "    name = \"John Doe\"\n",
    "    \n",
    "    def tax(self):\n",
    "        print(self.salary*0.10)\n",
    "        \n",
    "emp1 = Employee()\n",
    "print(emp1.salary)\n",
    "print(emp1.name)\n",
    "emp1.tax()"
   ]
  },
  {
   "cell_type": "markdown",
   "metadata": {},
   "source": [
    "#### How to use the __init__() method to assign values to data attributes in Python?\n",
    "Python classes have a special method named __init__ which is automatically executed when an instance of the class is created in memory."
   ]
  },
  {
   "cell_type": "code",
   "execution_count": 5,
   "metadata": {},
   "outputs": [
    {
     "name": "stdout",
     "output_type": "stream",
     "text": [
      "10000\n",
      "John Doe\n"
     ]
    }
   ],
   "source": [
    "class Employee:\n",
    "    def __init__(self, salary, name):\n",
    "        self.salary = salary\n",
    "        self.name = name\n",
    "        \n",
    "emp1 = Employee(10000, \"John Doe\")\n",
    "print(emp1.salary)\n",
    "print(emp1.name)"
   ]
  },
  {
   "cell_type": "markdown",
   "metadata": {},
   "source": [
    "#### How to update Object properties in Python?"
   ]
  },
  {
   "cell_type": "code",
   "execution_count": 6,
   "metadata": {},
   "outputs": [
    {
     "name": "stdout",
     "output_type": "stream",
     "text": [
      "10000\n",
      "20000\n"
     ]
    }
   ],
   "source": [
    "class Employee:\n",
    "    def __init__(self, salary, name):\n",
    "        self.salary = salary\n",
    "        self.name = name\n",
    "        \n",
    "emp1 = Employee(10000, \"John Doe\")\n",
    "print(emp1.salary)\n",
    "\n",
    "emp1.salary = 20000\n",
    "print(emp1.salary)"
   ]
  },
  {
   "cell_type": "markdown",
   "metadata": {},
   "source": [
    "#### How to delete Object properties and Object in Python?\n",
    "You can delete objects and properties of object by using the del keyword."
   ]
  },
  {
   "cell_type": "code",
   "execution_count": 7,
   "metadata": {},
   "outputs": [],
   "source": [
    "class Employee:\n",
    "    def __init__(self, salary, name):\n",
    "        self.salary = salary\n",
    "        self.name = name\n",
    "        \n",
    "emp1 = Employee(10000, \"John Doe\")\n",
    "\n",
    "del emp1.salary #Delete object property\n",
    "del emp1"
   ]
  },
  {
   "cell_type": "markdown",
   "metadata": {},
   "source": [
    "#### How to check and compare type of an object in Python?\n",
    "Class, or type, is an object that holds information about how to construct a certain kind of objects and what that kind of objects can do. A type is the class of a class. Like everything else in Python, classes themselves are objects, and you can pass them around, assign them to variables, etc. If you ask a class what its class is, you will get the answer type. If you ask a class instance what its class is, you will of course get the class."
   ]
  },
  {
   "cell_type": "code",
   "execution_count": 8,
   "metadata": {},
   "outputs": [
    {
     "name": "stdout",
     "output_type": "stream",
     "text": [
      "<class 'type'>\n",
      "<class '__main__.Test'>\n",
      "True\n"
     ]
    }
   ],
   "source": [
    "class Test(object):\n",
    "    pass\n",
    "\n",
    "print(type(Test))\n",
    "\n",
    "obj1 = Test()\n",
    "print(type(obj1))\n",
    "\n",
    "obj2 = Test()\n",
    "print(type(obj1) is type(obj2))"
   ]
  },
  {
   "cell_type": "markdown",
   "metadata": {},
   "source": [
    "#### How to copy all properties of an object to another object in Python?"
   ]
  },
  {
   "cell_type": "code",
   "execution_count": 9,
   "metadata": {},
   "outputs": [
    {
     "name": "stdout",
     "output_type": "stream",
     "text": [
      "25\n",
      "25\n"
     ]
    }
   ],
   "source": [
    "class MyClass(object):\n",
    "    def __init__(self):\n",
    "        super(MyClass, self).__init__()\n",
    "        self.foo = 1\n",
    "        self.bar = 2\n",
    "        \n",
    "obj1 = MyClass()\n",
    "obj2 = MyClass()\n",
    "\n",
    "obj1.foo = 25\n",
    "obj2.__dict__.update(obj1.__dict__)\n",
    "\n",
    "print(obj1.foo)\n",
    "print(obj2.foo)"
   ]
  },
  {
   "cell_type": "markdown",
   "metadata": {},
   "source": [
    "#### How to Iterate over object attributes in Python?\n",
    "Calling dir on the object gives you back all the attributes of that object, including python special attributes.You can always filter out the special methods by using a list comprehension."
   ]
  },
  {
   "cell_type": "code",
   "execution_count": 10,
   "metadata": {},
   "outputs": [
    {
     "name": "stdout",
     "output_type": "stream",
     "text": [
      "['__class__', '__delattr__', '__dict__', '__dir__', '__doc__', '__eq__', '__format__', '__ge__', '__getattribute__', '__gt__', '__hash__', '__init__', '__init_subclass__', '__le__', '__lt__', '__module__', '__ne__', '__new__', '__reduce__', '__reduce_ex__', '__repr__', '__setattr__', '__sizeof__', '__str__', '__subclasshook__', '__weakref__', '__z__', '_y', 'm', 'n', 'x', 'xyz']\n",
      "['_y', 'm', 'n', 'x', 'xyz']\n"
     ]
    }
   ],
   "source": [
    "class A():\n",
    "    m = 1\n",
    "    n = 2\n",
    "    \n",
    "    def __init__(self, x=1, y=2, z=3):\n",
    "        self.x = x\n",
    "        self._y = y\n",
    "        self.__z__ = z\n",
    "        \n",
    "    def xyz(self):\n",
    "        print(x, y, z)\n",
    "        \n",
    "obj = A()\n",
    "print(dir(obj))\n",
    "print([a for a in dir(obj) if not  a.startswith('__')])"
   ]
  },
  {
   "cell_type": "markdown",
   "metadata": {},
   "source": [
    "#### Print all properties of an Object in Python"
   ]
  },
  {
   "cell_type": "code",
   "execution_count": 11,
   "metadata": {},
   "outputs": [
    {
     "name": "stdout",
     "output_type": "stream",
     "text": [
      "eyes : 2\n",
      "name : Dog\n",
      "color : Spotted\n",
      "legs : 4\n",
      "age : 10\n",
      "kids : 0\n",
      "tail : 4\n"
     ]
    }
   ],
   "source": [
    "class Animal(object):\n",
    "    def __init__(self):\n",
    "        self.eyes = 2\n",
    "        self.name = 'Dog'\n",
    "        self.color = 'Spotted'\n",
    "        self.legs = 4\n",
    "        self.age = 10\n",
    "        self.kids = 0\n",
    "        \n",
    "animal = Animal()\n",
    "animal.tail = 4\n",
    "\n",
    "temp = vars(animal)\n",
    "for item in temp:\n",
    "    print(item, \":\", temp[item])"
   ]
  },
  {
   "cell_type": "markdown",
   "metadata": {},
   "source": [
    "#### How do I pass instance of an object as an argument in a function?"
   ]
  },
  {
   "cell_type": "code",
   "execution_count": 1,
   "metadata": {},
   "outputs": [
    {
     "name": "stdout",
     "output_type": "stream",
     "text": [
      "[Red, Blue, Black]\n"
     ]
    }
   ],
   "source": [
    "class Vehicle:\n",
    "    def __init__(self):\n",
    "        self.trucks = []\n",
    "        \n",
    "    def add_truck(self, truck):\n",
    "        self.trucks.append(truck)\n",
    "        \n",
    "class Truck:\n",
    "    def __init__(self, color):\n",
    "        self.color = color\n",
    "        \n",
    "    def __repr__(self):\n",
    "        return \"{}\".format(self.color)\n",
    "    \n",
    "def main():\n",
    "    v = Vehicle()\n",
    "    for t in \"Red Blue Black\".split():\n",
    "        t = Truck(t)\n",
    "        v.add_truck(t)\n",
    "    print(v.trucks)\n",
    "    \n",
    "if __name__ == '__main__':\n",
    "    main()"
   ]
  },
  {
   "cell_type": "markdown",
   "metadata": {},
   "source": [
    "In the example there are two classes Vehicle and Truck, object of class Truck is passed as parameter to the method of class Vehicle. In method main() object of Vehicle is created. Then the add_truck() method of class Vehicle is called and object of Truck class is passed as parameter."
   ]
  },
  {
   "cell_type": "markdown",
   "metadata": {},
   "source": [
    "#### How to create data attributes of a class in run-time in python?"
   ]
  },
  {
   "cell_type": "markdown",
   "metadata": {},
   "source": [
    "The setattr used to sets the named attribute on the given object with a specified value."
   ]
  },
  {
   "cell_type": "code",
   "execution_count": 2,
   "metadata": {},
   "outputs": [
    {
     "name": "stdout",
     "output_type": "stream",
     "text": [
      "12000\n",
      "25\n"
     ]
    }
   ],
   "source": [
    "class Employee:\n",
    "    pass\n",
    "\n",
    "emp1 = Employee()\n",
    "setattr(emp1, 'Salary', 12000)\n",
    "\n",
    "emp2 = Employee()\n",
    "setattr(emp2, 'Age', 25)\n",
    "\n",
    "print(emp1.Salary)\n",
    "print(emp2.Age)"
   ]
  },
  {
   "cell_type": "code",
   "execution_count": null,
   "metadata": {},
   "outputs": [],
   "source": []
  },
  {
   "cell_type": "code",
   "execution_count": null,
   "metadata": {},
   "outputs": [],
   "source": []
  },
  {
   "cell_type": "code",
   "execution_count": null,
   "metadata": {},
   "outputs": [],
   "source": []
  },
  {
   "cell_type": "code",
   "execution_count": null,
   "metadata": {},
   "outputs": [],
   "source": []
  },
  {
   "cell_type": "code",
   "execution_count": null,
   "metadata": {},
   "outputs": [],
   "source": []
  },
  {
   "cell_type": "markdown",
   "metadata": {},
   "source": [
    "#### How to create and use custom Self parameter in Python?\n",
    "self is an object reference to the object itself, it does not have to be named self , but it has to be the first parameter of any function in the class."
   ]
  },
  {
   "cell_type": "code",
   "execution_count": 3,
   "metadata": {},
   "outputs": [
    {
     "name": "stdout",
     "output_type": "stream",
     "text": [
      "10000 : John Doe\n"
     ]
    }
   ],
   "source": [
    "class Employee:\n",
    "    def __init__(person, salary, name):\n",
    "        person.salary = salary\n",
    "        person.name = name\n",
    " \n",
    "    def print_details(emp):\n",
    "        print(str(emp.salary) + ' : ' + emp.name)\n",
    " \n",
    " \n",
    "emp1 = Employee(10000, 'John Doe')\n",
    "emp1.print_details()"
   ]
  },
  {
   "cell_type": "markdown",
   "metadata": {},
   "source": [
    "#### How to use self parameter to maintain state of object in Python?\n",
    "When objects are instantiated, the object itself is passed into the self parameter. The Object is passed into the self parameter so that the object can keep hold of its own data."
   ]
  },
  {
   "cell_type": "code",
   "execution_count": 4,
   "metadata": {},
   "outputs": [
    {
     "name": "stdout",
     "output_type": "stream",
     "text": [
      "5.0\n",
      "7.0\n",
      "14.0\n",
      "7.0\n",
      "5.0\n"
     ]
    }
   ],
   "source": [
    "class State(object):\n",
    "    def __init__(self):\n",
    "        self.field = 5.0\n",
    " \n",
    "    def add(self, x):\n",
    "        self.field += x\n",
    " \n",
    "    def mul(self, x):\n",
    "        self.field *= x\n",
    " \n",
    "    def div(self, x):\n",
    "        self.field /= x\n",
    " \n",
    "    def sub(self, x):\n",
    "        self.field -= x\n",
    " \n",
    " \n",
    "s = State()\n",
    "print(s.field)\n",
    " \n",
    "s.add(2)         # Self is implicitly passed.\n",
    "print(s.field)\n",
    " \n",
    "s.mul(2)         # Self is implicitly passed.\n",
    "print(s.field)\n",
    " \n",
    "s.div(2)         # Self is implicitly passed.\n",
    "print(s.field)\n",
    " \n",
    "s.sub(2)         # Self is implicitly passed.\n",
    "print(s.field)"
   ]
  },
  {
   "cell_type": "markdown",
   "metadata": {},
   "source": [
    "#### How to create and use Static Class variables in Python?\n",
    "Variables declared inside the class definition, but not inside a method are class or static variables."
   ]
  },
  {
   "cell_type": "code",
   "execution_count": 5,
   "metadata": {},
   "outputs": [
    {
     "name": "stdout",
     "output_type": "stream",
     "text": [
      "25\n",
      "25\n",
      "25\n",
      "30\n"
     ]
    }
   ],
   "source": [
    "class Employee:\n",
    "    age = 25\n",
    " \n",
    " \n",
    "print(Employee.age)\n",
    " \n",
    "e = Employee()\n",
    "print(e.age)\n",
    " \n",
    "e.age = 30\n",
    "print(Employee.age)   # 25\n",
    "print(e.age)          # 30"
   ]
  },
  {
   "cell_type": "markdown",
   "metadata": {},
   "source": [
    "#### Python decorator get class name"
   ]
  },
  {
   "cell_type": "code",
   "execution_count": 6,
   "metadata": {},
   "outputs": [
    {
     "name": "stdout",
     "output_type": "stream",
     "text": [
      "__main__.A.a\n",
      "Hi from A.a\n",
      "__main__.b\n",
      "Hi from b\n"
     ]
    }
   ],
   "source": [
    "def print_name(*args):\n",
    "    def _print_name(fn):\n",
    "        def wrapper(*args, **kwargs):\n",
    "            print('{}.{}'.format(fn.__module__, fn.__qualname__))\n",
    "            return fn(*args, **kwargs)\n",
    "        return wrapper\n",
    "    return _print_name\n",
    "\n",
    "class A():\n",
    "    @print_name()\n",
    "    def a():\n",
    "        print(\"Hi from A.a\")\n",
    "        \n",
    "@print_name()\n",
    "def b():\n",
    "    print(\"Hi from b\")\n",
    "    \n",
    "A.a()\n",
    "b()"
   ]
  },
  {
   "cell_type": "markdown",
   "metadata": {},
   "source": [
    "#### How to print instances of a class using print() in Python?"
   ]
  },
  {
   "cell_type": "code",
   "execution_count": 7,
   "metadata": {},
   "outputs": [
    {
     "name": "stdout",
     "output_type": "stream",
     "text": [
      "<class '__main__.Element'>\n",
      "name = canada\n",
      "city = tokyo\n",
      "population = 321423\n"
     ]
    }
   ],
   "source": [
    "class Element:\n",
    "    def __init__(self, name, city, population):\n",
    "        self.name = name\n",
    "        self.city = city\n",
    "        self.population = population\n",
    "        \n",
    "    def __str__(self):\n",
    "        return str(self.__class__) + '\\n' + '\\n'.join(('{} = {}'.format(item, self.__dict__[item]) for item in self.__dict__))\n",
    "    \n",
    "elem = Element('canada', 'tokyo', 321423)\n",
    "print(elem)"
   ]
  },
  {
   "cell_type": "markdown",
   "metadata": {},
   "source": [
    "#### Simple Decorators Example in Python"
   ]
  },
  {
   "cell_type": "code",
   "execution_count": 9,
   "metadata": {},
   "outputs": [
    {
     "name": "stdout",
     "output_type": "stream",
     "text": [
      "Step - 1\n",
      "Step - 2\n",
      "Step - 3\n"
     ]
    }
   ],
   "source": [
    "def my_decorator(func):\n",
    "    def wrapper():\n",
    "        print(\"Step - 1\")\n",
    "        func()\n",
    "        print(\"Step - 3\")\n",
    "    return wrapper\n",
    "\n",
    "@my_decorator\n",
    "def start_steps():\n",
    "    print(\"Step - 2\")\n",
    "    \n",
    "start_steps()"
   ]
  },
  {
   "cell_type": "markdown",
   "metadata": {},
   "source": [
    "#### How to define a decorator as method inside class in Python?"
   ]
  },
  {
   "cell_type": "code",
   "execution_count": 10,
   "metadata": {},
   "outputs": [
    {
     "name": "stdout",
     "output_type": "stream",
     "text": [
      "Somefunc called\n",
      "Counter inside the wrapper:  1\n",
      "1\n",
      "Somefunc called\n",
      "Counter inside the wrapper:  2\n",
      "2\n",
      "Somefunc called\n",
      "Counter inside the wrapper:  3\n",
      "3\n"
     ]
    }
   ],
   "source": [
    "class myclass:\n",
    "    def __init__(self):\n",
    "        self.cnt = 0\n",
    "        \n",
    "    def counter(self, function):\n",
    "        \"\"\"\n",
    "        this method counts the number of runtime of a function.\n",
    "        \"\"\"\n",
    "        def wrapper(**args):\n",
    "            function(self, **args)\n",
    "            self.cnt += 1\n",
    "            print('Counter inside the wrapper: ', self.cnt)\n",
    "        return wrapper\n",
    "    \n",
    "global counter_object\n",
    "counter_object = myclass()\n",
    "\n",
    "@counter_object.counter\n",
    "def somefunc(self):\n",
    "    print(\"Somefunc called\")\n",
    "\n",
    "somefunc()\n",
    "print(counter_object.cnt)\n",
    "\n",
    "somefunc()\n",
    "print(counter_object.cnt)\n",
    "\n",
    "somefunc()\n",
    "print(counter_object.cnt)"
   ]
  },
  {
   "cell_type": "markdown",
   "metadata": {},
   "source": [
    "#### How to get all methods of a given class which that are decorated in Python?"
   ]
  },
  {
   "cell_type": "code",
   "execution_count": 14,
   "metadata": {},
   "outputs": [
    {
     "name": "stdout",
     "output_type": "stream",
     "text": [
      "{'think': <__main__.awesome object at 0x000001B3F7368DF0>, 'walk': <__main__.awesome object at 0x000001B3F7368FA0>}\n"
     ]
    }
   ],
   "source": [
    "class awesome(object):\n",
    "    def __init__(self, method):\n",
    "        self._method = method\n",
    "        \n",
    "    def __call__(self, obj, *args, **kwargs):\n",
    "        return self._method(obj, *args, **kwargs)\n",
    "    \n",
    "    @classmethod\n",
    "    def methods(cls, subject):\n",
    "        def g():\n",
    "            for name in dir(subject):\n",
    "                method = getattr(subject, name)\n",
    "                if isinstance(method, awesome):\n",
    "                    yield name, method\n",
    "        return {name: method for name, method in g()}\n",
    "    \n",
    "class Robot(object):\n",
    "    @awesome\n",
    "    def think(self):\n",
    "        return 0\n",
    "    \n",
    "    @awesome\n",
    "    def walk(self):\n",
    "        return 0\n",
    "    \n",
    "    def irritate(self, other):\n",
    "        return 0\n",
    "    \n",
    "print(awesome.methods(Robot))"
   ]
  },
  {
   "cell_type": "markdown",
   "metadata": {},
   "source": [
    "#### Python decorator with and without arguments"
   ]
  },
  {
   "cell_type": "code",
   "execution_count": 15,
   "metadata": {},
   "outputs": [
    {
     "name": "stdout",
     "output_type": "stream",
     "text": [
      "1\n",
      "my_func\n"
     ]
    }
   ],
   "source": [
    "def someDecorator(arg = None):\n",
    "    def decorator(func):\n",
    "        def wrapper(*a, **ka):\n",
    "            if not callable(arg):\n",
    "                print(arg)\n",
    "                return func(*a, **ka)\n",
    "            else:\n",
    "                return 'xxxxxx'\n",
    "        return wrapper\n",
    "    \n",
    "    if callable(arg):\n",
    "        return decorator(arg) #return 'wrapper'\n",
    "    else:\n",
    "        return decorator #... or 'decorator'\n",
    "    \n",
    "@someDecorator(arg = 1)\n",
    "def my_func():\n",
    "    print('my_func')\n",
    "    \n",
    "@someDecorator\n",
    "def my_func1():\n",
    "    print('my_func1')\n",
    "    \n",
    "if __name__ == '__main__':\n",
    "    my_func()\n",
    "    my_func1()"
   ]
  },
  {
   "cell_type": "markdown",
   "metadata": {},
   "source": [
    "#### Class method decorator with self arguments in Python"
   ]
  },
  {
   "cell_type": "code",
   "execution_count": 16,
   "metadata": {},
   "outputs": [
    {
     "name": "stdout",
     "output_type": "stream",
     "text": [
      "Inside wrapper function argument passed : Canada\n",
      "Inside get function argument passed. Canada\n"
     ]
    }
   ],
   "source": [
    "def check_authorization(f):\n",
    "    def wrapper(*args):\n",
    "        print(\"Inside wrapper function argument passed :\", args[0].url)\n",
    "        return f(*args)\n",
    "    return wrapper\n",
    "\n",
    "class Client(object):\n",
    "    def __init__(self, url):\n",
    "        self.url = url\n",
    "        \n",
    "    @check_authorization\n",
    "    def get(self):\n",
    "        print(\"Inside get function argument passed.\", self.url)\n",
    "    \n",
    "Client('Canada').get()"
   ]
  },
  {
   "cell_type": "markdown",
   "metadata": {},
   "source": [
    "#### Self object inside the decorator"
   ]
  },
  {
   "cell_type": "code",
   "execution_count": 1,
   "metadata": {},
   "outputs": [
    {
     "name": "stdout",
     "output_type": "stream",
     "text": [
      "Checking if user is logged in\n",
      "User is logged in. Calling the original function.\n",
      "Get function called\n"
     ]
    }
   ],
   "source": [
    "import random\n",
    "\n",
    "def only_registered_users(func):\n",
    "    def wrapper(handler):\n",
    "        print('Checking if user is logged in')\n",
    "        if random.randint(0, 1):\n",
    "            print(\"User is logged in. Calling the original function.\")\n",
    "            func(handler)\n",
    "        else:\n",
    "            print(\"User is Not logged in. Redirecting....\")\n",
    "    return wrapper\n",
    "        \n",
    "class MyHandler(object):\n",
    "    \n",
    "    @only_registered_users\n",
    "    def get(self):\n",
    "        print(\"Get function called\")\n",
    "        \n",
    "m = MyHandler()\n",
    "m.get()"
   ]
  },
  {
   "cell_type": "markdown",
   "metadata": {},
   "source": [
    "#### How to use the hidden decorator in another class in Python?"
   ]
  },
  {
   "cell_type": "code",
   "execution_count": 3,
   "metadata": {},
   "outputs": [
    {
     "name": "stdout",
     "output_type": "stream",
     "text": [
      "Normal:\n",
      "Start magic\n",
      "Normal Call\n",
      "End magic\n",
      "----------\n",
      "Inherited: \n",
      "Start magic\n",
      "Override bar in\n",
      "Start magic\n",
      "Normal Call\n",
      "End magic\n",
      "Override bar out\n",
      "End magic\n"
     ]
    }
   ],
   "source": [
    "class TestA(object):\n",
    "    def _decorator(foo):\n",
    "        def magic(self):\n",
    "            print(\"Start magic\")\n",
    "            foo(self)\n",
    "            print(\"End magic\")\n",
    "        return magic\n",
    "    \n",
    "    @_decorator\n",
    "    def bar(self):\n",
    "        print(\"Normal Call\")\n",
    "        \n",
    "    _decorator = staticmethod(_decorator)\n",
    "    \n",
    "class TestB(TestA):\n",
    "    @TestA._decorator\n",
    "    def bar(self):\n",
    "        print(\"Override bar in\")\n",
    "        super(TestB, self).bar()\n",
    "        print(\"Override bar out\")\n",
    "        \n",
    "print(\"Normal:\")\n",
    "test = TestA()\n",
    "test.bar()\n",
    "print('-' * 10)\n",
    "\n",
    "print(\"Inherited: \")\n",
    "b = TestB()\n",
    "b.bar()"
   ]
  },
  {
   "cell_type": "markdown",
   "metadata": {},
   "source": [
    "#### Applying Multiple Decorators to a Single Function in Python"
   ]
  },
  {
   "cell_type": "code",
   "execution_count": 3,
   "metadata": {},
   "outputs": [
    {
     "name": "stdout",
     "output_type": "stream",
     "text": [
      "Inside the calculation function:  5\n",
      "Inside the multiplication function:  5\n",
      "Inside the addition function:  25\n",
      "Sum =  50\n"
     ]
    }
   ],
   "source": [
    "def multiplication(func):\n",
    "    def wrapper(*args, **kwargs):\n",
    "        num_sum = func(*args, **kwargs)\n",
    "        print(\"Inside the multiplication function: \", num_sum)\n",
    "        return num_sum * num_sum\n",
    "        \n",
    "    return wrapper\n",
    "\n",
    "def addition(func):\n",
    "    def wrapper(*args, **kwargs):\n",
    "        num_sum = func(*args, **kwargs)\n",
    "        print(\"Inside the addition function: \", num_sum)\n",
    "        return num_sum + num_sum\n",
    "    \n",
    "    return wrapper\n",
    "\n",
    "@addition\n",
    "@multiplication\n",
    "def calculation(a):\n",
    "    print(\"Inside the calculation function: \", a)\n",
    "    return a\n",
    "\n",
    "print(\"Sum = \", calculation(5))"
   ]
  },
  {
   "cell_type": "markdown",
   "metadata": {},
   "source": [
    "#### Python decorator get class instance"
   ]
  },
  {
   "cell_type": "code",
   "execution_count": 4,
   "metadata": {},
   "outputs": [
    {
     "name": "stdout",
     "output_type": "stream",
     "text": [
      "canada\n"
     ]
    }
   ],
   "source": [
    "class MySerial():\n",
    "    def __init__(self):\n",
    "        pass # I have to have an __init__\n",
    "    \n",
    "    def write(self, args):\n",
    "        print(args[0])\n",
    "        pass # write to buffer\n",
    "    \n",
    "    def read(self):\n",
    "        pass # read to buffer\n",
    "    \n",
    "    @staticmethod\n",
    "    def decorator(func):\n",
    "        def func_wrap(cls, *args, **kwargs):\n",
    "            cls.ser.write(func(cls, *args, **kwargs))\n",
    "            return cls.ser.read()\n",
    "        return func_wrap\n",
    "    \n",
    "class App():\n",
    "    def __init__(self):\n",
    "        self.ser = MySerial()\n",
    "        \n",
    "    @MySerial.decorator\n",
    "    def myfunc(self):\n",
    "        self = 100\n",
    "        return ['canada', 'australia']\n",
    "\n",
    "App().myfunc()"
   ]
  },
  {
   "cell_type": "code",
   "execution_count": 5,
   "metadata": {},
   "outputs": [
    {
     "name": "stdout",
     "output_type": "stream",
     "text": [
      "['canada', 'australia']\n"
     ]
    }
   ],
   "source": [
    "class MySerial():\n",
    "  def __init__(self):\n",
    "    pass  # I have to have an __init__\n",
    " \n",
    "  def write(self, *args):\n",
    "    print(args[0])\n",
    "    pass  # write to buffer\n",
    " \n",
    "  def read(self):\n",
    "    pass  # read to buffer\n",
    " \n",
    "  @staticmethod\n",
    "  def decorator(func):\n",
    "    def func_wrap(cls, *args, **kwargs):\n",
    "      cls.ser.write(func(cls, *args, **kwargs))\n",
    "      return cls.ser.read()\n",
    "    return func_wrap\n",
    " \n",
    " \n",
    "class App():\n",
    "  def __init__(self):\n",
    "    self.ser = MySerial()\n",
    " \n",
    "  @MySerial.decorator\n",
    "  def myfunc(self):\n",
    "    self = 100\n",
    "    return ['canada', 'australia']\n",
    " \n",
    " \n",
    "App().myfunc()"
   ]
  },
  {
   "cell_type": "markdown",
   "metadata": {},
   "source": [
    "#### How to use multiple decorators on one function in Python?"
   ]
  },
  {
   "cell_type": "code",
   "execution_count": 6,
   "metadata": {},
   "outputs": [
    {
     "name": "stdout",
     "output_type": "stream",
     "text": [
      "Step-1\n",
      "Step-2\n",
      "Step-2\n",
      "Step-2\n",
      "Step-3\n"
     ]
    }
   ],
   "source": [
    "def my_decorator(func):\n",
    "    def wrapper():\n",
    "        print(\"Step-1\")\n",
    "        func()\n",
    "        print(\"Step-3\")\n",
    "    return wrapper\n",
    "\n",
    "def repeat(func):\n",
    "    def wrapper():\n",
    "        func()\n",
    "        func()\n",
    "        func()\n",
    "    return wrapper\n",
    "\n",
    "@my_decorator\n",
    "@repeat\n",
    "def start_steps():\n",
    "    print(\"Step-2\")\n",
    "    \n",
    "start_steps()"
   ]
  },
  {
   "cell_type": "markdown",
   "metadata": {},
   "source": [
    "#### How to access both cls and self in a method in Python?"
   ]
  },
  {
   "cell_type": "code",
   "execution_count": 7,
   "metadata": {},
   "outputs": [
    {
     "name": "stdout",
     "output_type": "stream",
     "text": [
      "var3\n",
      "var1\n",
      "var2\n",
      "var2\n"
     ]
    }
   ],
   "source": [
    "class MyClass:\n",
    "    __var2 = 'var2'\n",
    "    var3 = 'var3'\n",
    "    \n",
    "    def __init__(self):\n",
    "        self.__var1 = 'var1'\n",
    "        \n",
    "    def normal_method(self):\n",
    "        print(self.__var1)\n",
    "        \n",
    "    @classmethod\n",
    "    def class_method(cls):\n",
    "        print(cls.__var2)\n",
    "        \n",
    "    def my_method(self):\n",
    "        print(self.__var1)\n",
    "        print(self.__var2)\n",
    "        print(self.__class__.__var2)\n",
    "        \n",
    "if __name__ == '__main__':\n",
    "    print(MyClass.__dict__['var3'])\n",
    "    \n",
    "clzz = MyClass()\n",
    "clzz.my_method()"
   ]
  },
  {
   "cell_type": "markdown",
   "metadata": {},
   "source": [
    "#### How to get all methods of a Python class with given decorator?"
   ]
  },
  {
   "cell_type": "code",
   "execution_count": 9,
   "metadata": {},
   "outputs": [
    {
     "ename": "TypeError",
     "evalue": "<class '__main__.Test'> is a built-in class",
     "output_type": "error",
     "traceback": [
      "\u001b[1;31m---------------------------------------------------------------------------\u001b[0m",
      "\u001b[1;31mTypeError\u001b[0m                                 Traceback (most recent call last)",
      "\u001b[1;32m<ipython-input-9-219df32200ce>\u001b[0m in \u001b[0;36m<module>\u001b[1;34m\u001b[0m\n\u001b[0;32m     32\u001b[0m \u001b[1;33m\u001b[0m\u001b[0m\n\u001b[0;32m     33\u001b[0m \u001b[1;33m\u001b[0m\u001b[0m\n\u001b[1;32m---> 34\u001b[1;33m \u001b[0mprint\u001b[0m\u001b[1;33m(\u001b[0m\u001b[0mlist\u001b[0m\u001b[1;33m(\u001b[0m\u001b[0mmethodsWithDecorator\u001b[0m\u001b[1;33m(\u001b[0m\u001b[0mTest\u001b[0m\u001b[1;33m,\u001b[0m \u001b[1;34m'deco'\u001b[0m\u001b[1;33m)\u001b[0m\u001b[1;33m)\u001b[0m\u001b[1;33m)\u001b[0m\u001b[1;33m\u001b[0m\u001b[1;33m\u001b[0m\u001b[0m\n\u001b[0m\u001b[0;32m     35\u001b[0m \u001b[0mprint\u001b[0m\u001b[1;33m(\u001b[0m\u001b[0mlist\u001b[0m\u001b[1;33m(\u001b[0m\u001b[0mmethodsWithDecorator\u001b[0m\u001b[1;33m(\u001b[0m\u001b[0mTest\u001b[0m\u001b[1;33m,\u001b[0m \u001b[1;34m'deco2'\u001b[0m\u001b[1;33m)\u001b[0m\u001b[1;33m)\u001b[0m\u001b[1;33m)\u001b[0m\u001b[1;33m\u001b[0m\u001b[1;33m\u001b[0m\u001b[0m\n",
      "\u001b[1;32m<ipython-input-9-219df32200ce>\u001b[0m in \u001b[0;36mmethodsWithDecorator\u001b[1;34m(cls, decoratorName)\u001b[0m\n\u001b[0;32m     23\u001b[0m \u001b[1;33m\u001b[0m\u001b[0m\n\u001b[0;32m     24\u001b[0m \u001b[1;32mdef\u001b[0m \u001b[0mmethodsWithDecorator\u001b[0m\u001b[1;33m(\u001b[0m\u001b[0mcls\u001b[0m\u001b[1;33m,\u001b[0m \u001b[0mdecoratorName\u001b[0m\u001b[1;33m)\u001b[0m\u001b[1;33m:\u001b[0m\u001b[1;33m\u001b[0m\u001b[1;33m\u001b[0m\u001b[0m\n\u001b[1;32m---> 25\u001b[1;33m     \u001b[0msourcelines\u001b[0m \u001b[1;33m=\u001b[0m \u001b[0minspect\u001b[0m\u001b[1;33m.\u001b[0m\u001b[0mgetsourcelines\u001b[0m\u001b[1;33m(\u001b[0m\u001b[0mcls\u001b[0m\u001b[1;33m)\u001b[0m\u001b[1;33m[\u001b[0m\u001b[1;36m0\u001b[0m\u001b[1;33m]\u001b[0m\u001b[1;33m\u001b[0m\u001b[1;33m\u001b[0m\u001b[0m\n\u001b[0m\u001b[0;32m     26\u001b[0m     \u001b[1;32mfor\u001b[0m \u001b[0mi\u001b[0m\u001b[1;33m,\u001b[0m \u001b[0mline\u001b[0m \u001b[1;32min\u001b[0m \u001b[0menumerate\u001b[0m\u001b[1;33m(\u001b[0m\u001b[0msourcelines\u001b[0m\u001b[1;33m)\u001b[0m\u001b[1;33m:\u001b[0m\u001b[1;33m\u001b[0m\u001b[1;33m\u001b[0m\u001b[0m\n\u001b[0;32m     27\u001b[0m         \u001b[0mline\u001b[0m \u001b[1;33m=\u001b[0m \u001b[0mline\u001b[0m\u001b[1;33m.\u001b[0m\u001b[0mstrip\u001b[0m\u001b[1;33m(\u001b[0m\u001b[1;33m)\u001b[0m\u001b[1;33m\u001b[0m\u001b[1;33m\u001b[0m\u001b[0m\n",
      "\u001b[1;32m~\\anaconda3\\lib\\inspect.py\u001b[0m in \u001b[0;36mgetsourcelines\u001b[1;34m(object)\u001b[0m\n\u001b[0;32m    965\u001b[0m     raised if the source code cannot be retrieved.\"\"\"\n\u001b[0;32m    966\u001b[0m     \u001b[0mobject\u001b[0m \u001b[1;33m=\u001b[0m \u001b[0munwrap\u001b[0m\u001b[1;33m(\u001b[0m\u001b[0mobject\u001b[0m\u001b[1;33m)\u001b[0m\u001b[1;33m\u001b[0m\u001b[1;33m\u001b[0m\u001b[0m\n\u001b[1;32m--> 967\u001b[1;33m     \u001b[0mlines\u001b[0m\u001b[1;33m,\u001b[0m \u001b[0mlnum\u001b[0m \u001b[1;33m=\u001b[0m \u001b[0mfindsource\u001b[0m\u001b[1;33m(\u001b[0m\u001b[0mobject\u001b[0m\u001b[1;33m)\u001b[0m\u001b[1;33m\u001b[0m\u001b[1;33m\u001b[0m\u001b[0m\n\u001b[0m\u001b[0;32m    968\u001b[0m \u001b[1;33m\u001b[0m\u001b[0m\n\u001b[0;32m    969\u001b[0m     \u001b[1;32mif\u001b[0m \u001b[0mistraceback\u001b[0m\u001b[1;33m(\u001b[0m\u001b[0mobject\u001b[0m\u001b[1;33m)\u001b[0m\u001b[1;33m:\u001b[0m\u001b[1;33m\u001b[0m\u001b[1;33m\u001b[0m\u001b[0m\n",
      "\u001b[1;32m~\\anaconda3\\lib\\inspect.py\u001b[0m in \u001b[0;36mfindsource\u001b[1;34m(object)\u001b[0m\n\u001b[0;32m    778\u001b[0m     is raised if the source code cannot be retrieved.\"\"\"\n\u001b[0;32m    779\u001b[0m \u001b[1;33m\u001b[0m\u001b[0m\n\u001b[1;32m--> 780\u001b[1;33m     \u001b[0mfile\u001b[0m \u001b[1;33m=\u001b[0m \u001b[0mgetsourcefile\u001b[0m\u001b[1;33m(\u001b[0m\u001b[0mobject\u001b[0m\u001b[1;33m)\u001b[0m\u001b[1;33m\u001b[0m\u001b[1;33m\u001b[0m\u001b[0m\n\u001b[0m\u001b[0;32m    781\u001b[0m     \u001b[1;32mif\u001b[0m \u001b[0mfile\u001b[0m\u001b[1;33m:\u001b[0m\u001b[1;33m\u001b[0m\u001b[1;33m\u001b[0m\u001b[0m\n\u001b[0;32m    782\u001b[0m         \u001b[1;31m# Invalidate cache if needed.\u001b[0m\u001b[1;33m\u001b[0m\u001b[1;33m\u001b[0m\u001b[1;33m\u001b[0m\u001b[0m\n",
      "\u001b[1;32m~\\anaconda3\\lib\\inspect.py\u001b[0m in \u001b[0;36mgetsourcefile\u001b[1;34m(object)\u001b[0m\n\u001b[0;32m    694\u001b[0m     \u001b[0mReturn\u001b[0m \u001b[1;32mNone\u001b[0m \u001b[1;32mif\u001b[0m \u001b[0mno\u001b[0m \u001b[0mway\u001b[0m \u001b[0mcan\u001b[0m \u001b[0mbe\u001b[0m \u001b[0midentified\u001b[0m \u001b[0mto\u001b[0m \u001b[0mget\u001b[0m \u001b[0mthe\u001b[0m \u001b[0msource\u001b[0m\u001b[1;33m.\u001b[0m\u001b[1;33m\u001b[0m\u001b[1;33m\u001b[0m\u001b[0m\n\u001b[0;32m    695\u001b[0m     \"\"\"\n\u001b[1;32m--> 696\u001b[1;33m     \u001b[0mfilename\u001b[0m \u001b[1;33m=\u001b[0m \u001b[0mgetfile\u001b[0m\u001b[1;33m(\u001b[0m\u001b[0mobject\u001b[0m\u001b[1;33m)\u001b[0m\u001b[1;33m\u001b[0m\u001b[1;33m\u001b[0m\u001b[0m\n\u001b[0m\u001b[0;32m    697\u001b[0m     \u001b[0mall_bytecode_suffixes\u001b[0m \u001b[1;33m=\u001b[0m \u001b[0mimportlib\u001b[0m\u001b[1;33m.\u001b[0m\u001b[0mmachinery\u001b[0m\u001b[1;33m.\u001b[0m\u001b[0mDEBUG_BYTECODE_SUFFIXES\u001b[0m\u001b[1;33m[\u001b[0m\u001b[1;33m:\u001b[0m\u001b[1;33m]\u001b[0m\u001b[1;33m\u001b[0m\u001b[1;33m\u001b[0m\u001b[0m\n\u001b[0;32m    698\u001b[0m     \u001b[0mall_bytecode_suffixes\u001b[0m \u001b[1;33m+=\u001b[0m \u001b[0mimportlib\u001b[0m\u001b[1;33m.\u001b[0m\u001b[0mmachinery\u001b[0m\u001b[1;33m.\u001b[0m\u001b[0mOPTIMIZED_BYTECODE_SUFFIXES\u001b[0m\u001b[1;33m[\u001b[0m\u001b[1;33m:\u001b[0m\u001b[1;33m]\u001b[0m\u001b[1;33m\u001b[0m\u001b[1;33m\u001b[0m\u001b[0m\n",
      "\u001b[1;32m~\\anaconda3\\lib\\inspect.py\u001b[0m in \u001b[0;36mgetfile\u001b[1;34m(object)\u001b[0m\n\u001b[0;32m    663\u001b[0m             \u001b[1;32mif\u001b[0m \u001b[0mgetattr\u001b[0m\u001b[1;33m(\u001b[0m\u001b[0mmodule\u001b[0m\u001b[1;33m,\u001b[0m \u001b[1;34m'__file__'\u001b[0m\u001b[1;33m,\u001b[0m \u001b[1;32mNone\u001b[0m\u001b[1;33m)\u001b[0m\u001b[1;33m:\u001b[0m\u001b[1;33m\u001b[0m\u001b[1;33m\u001b[0m\u001b[0m\n\u001b[0;32m    664\u001b[0m                 \u001b[1;32mreturn\u001b[0m \u001b[0mmodule\u001b[0m\u001b[1;33m.\u001b[0m\u001b[0m__file__\u001b[0m\u001b[1;33m\u001b[0m\u001b[1;33m\u001b[0m\u001b[0m\n\u001b[1;32m--> 665\u001b[1;33m         \u001b[1;32mraise\u001b[0m \u001b[0mTypeError\u001b[0m\u001b[1;33m(\u001b[0m\u001b[1;34m'{!r} is a built-in class'\u001b[0m\u001b[1;33m.\u001b[0m\u001b[0mformat\u001b[0m\u001b[1;33m(\u001b[0m\u001b[0mobject\u001b[0m\u001b[1;33m)\u001b[0m\u001b[1;33m)\u001b[0m\u001b[1;33m\u001b[0m\u001b[1;33m\u001b[0m\u001b[0m\n\u001b[0m\u001b[0;32m    666\u001b[0m     \u001b[1;32mif\u001b[0m \u001b[0mismethod\u001b[0m\u001b[1;33m(\u001b[0m\u001b[0mobject\u001b[0m\u001b[1;33m)\u001b[0m\u001b[1;33m:\u001b[0m\u001b[1;33m\u001b[0m\u001b[1;33m\u001b[0m\u001b[0m\n\u001b[0;32m    667\u001b[0m         \u001b[0mobject\u001b[0m \u001b[1;33m=\u001b[0m \u001b[0mobject\u001b[0m\u001b[1;33m.\u001b[0m\u001b[0m__func__\u001b[0m\u001b[1;33m\u001b[0m\u001b[1;33m\u001b[0m\u001b[0m\n",
      "\u001b[1;31mTypeError\u001b[0m: <class '__main__.Test'> is a built-in class"
     ]
    }
   ],
   "source": [
    "import inspect\n",
    " \n",
    " \n",
    "def deco(func):\n",
    "    return func\n",
    " \n",
    " \n",
    "def deco2():\n",
    "    def wrapper(func):\n",
    "        pass\n",
    "    return wrapper\n",
    " \n",
    " \n",
    "class Test(object):\n",
    "    @deco\n",
    "    def method(self):\n",
    "        pass\n",
    " \n",
    "    @deco2()\n",
    "    def method2(self):\n",
    "        pass\n",
    " \n",
    " \n",
    "def methodsWithDecorator(cls, decoratorName):\n",
    "    sourcelines = inspect.getsourcelines(cls)[0]\n",
    "    for i, line in enumerate(sourcelines):\n",
    "        line = line.strip()\n",
    "        if line.split('(')[0].strip() == '@' + decoratorName:  # leaving a bit out\n",
    "            nextLine = sourcelines[i + 1]\n",
    "            name = nextLine.split('def')[1].split('(')[0].strip()\n",
    "            yield(name)\n",
    " \n",
    " \n",
    "print(list(methodsWithDecorator(Test, 'deco')))\n",
    "print(list(methodsWithDecorator(Test, 'deco2')))"
   ]
  },
  {
   "cell_type": "markdown",
   "metadata": {},
   "source": [
    "#### How to decorate a class?"
   ]
  },
  {
   "cell_type": "code",
   "execution_count": 11,
   "metadata": {},
   "outputs": [
    {
     "name": "stdout",
     "output_type": "stream",
     "text": [
      "@decorator pre subsubfoo decorator\n",
      "subsubfoo.foo() pre\n",
      "@decorator pre subfoo decorator\n",
      "subfoo.foo() pre\n",
      "@decorator pre foo decorator\n",
      "foo.foo()\n",
      "@decorator post foo decorator\n",
      "subfoo.foo() post\n",
      "@decorator post subfoo decorator\n",
      "subsubfoo.foo() post\n",
      "@decorator post subsubfoo decorator\n"
     ]
    }
   ],
   "source": [
    "from functools import wraps\n",
    "\n",
    "def dec(msg='default'):\n",
    "    def decorator(klass):\n",
    "        old_foo = klass.foo\n",
    "        \n",
    "        @wraps(klass.foo)\n",
    "        def decorated_foo(self, *args, **kwargs):\n",
    "            print('@decorator pre %s' % msg)\n",
    "            old_foo(self, *args, **kwargs)\n",
    "            print('@decorator post %s' % msg)\n",
    "        klass.foo = decorated_foo\n",
    "        return klass\n",
    "    return decorator\n",
    "\n",
    "@dec('foo decorator')\n",
    "class Foo(object):\n",
    "    def foo(self, *args, **kwargs):\n",
    "        print('foo.foo()')\n",
    "    \n",
    "@dec('subfoo decorator')\n",
    "class SubFoo(Foo):\n",
    "    def foo(self, *args, **kwargs):\n",
    "        print('subfoo.foo() pre')\n",
    "        super(SubFoo, self).foo(*args, **kwargs)\n",
    "        print('subfoo.foo() post')\n",
    "        \n",
    "@dec('subsubfoo decorator')\n",
    "class SubSubFoo(SubFoo):\n",
    "    def foo(self, *args, **kwargs):\n",
    "        print('subsubfoo.foo() pre')\n",
    "        super(SubSubFoo, self).foo(*args, **kwargs)\n",
    "        print('subsubfoo.foo() post')\n",
    "        \n",
    "SubSubFoo().foo()"
   ]
  },
  {
   "cell_type": "markdown",
   "metadata": {},
   "source": [
    "#### How to pass Class fields to a decorator on a class method as an argument?"
   ]
  },
  {
   "cell_type": "code",
   "execution_count": 12,
   "metadata": {},
   "outputs": [
    {
     "name": "stdout",
     "output_type": "stream",
     "text": [
      "Welcome Message: 'url'...\n",
      "Work is done...\n"
     ]
    }
   ],
   "source": [
    "import functools\n",
    "\n",
    "#Imagine this is at some different place and cannot be changed\n",
    "\n",
    "def check_authorization(some_attr, url):\n",
    "    def decorator(func):\n",
    "        @functools.wraps(func)\n",
    "        def wrapper(*args, **kwargs):\n",
    "            print(f\"Welcome Message: 'url'...\")\n",
    "            return func(*args, **kwargs)\n",
    "        return wrapper\n",
    "    return decorator\n",
    "\n",
    "#another dummy function to make the example work\n",
    "\n",
    "def do_work():\n",
    "    print(\"Work is done...\")\n",
    "    \n",
    "def custom_check_authorization(some_attr):\n",
    "    def decorator(func):\n",
    "        #  assuming this will be used only on this particular class\n",
    "        @functools.wraps(func)\n",
    "        def wrapper(self, *args, **kwargs):\n",
    "            # get url\n",
    "            url = self.url\n",
    "            #decorate function with original decorator, pass url\n",
    "            return check_authorization(some_attr, url)(func)(self, *args, **kwargs)\n",
    "        return wrapper\n",
    "    return decorator\n",
    "\n",
    "class Client(object):\n",
    "    def __init__(self, url):\n",
    "        self.url = url\n",
    "        \n",
    "    @custom_check_authorization(\"some_attr\")\n",
    "    def get(self):\n",
    "        do_work()\n",
    "        \n",
    "#create object\n",
    "client = Client(\"Hello World\")\n",
    "\n",
    "#call decorated function\n",
    "client.get()"
   ]
  },
  {
   "cell_type": "markdown",
   "metadata": {},
   "source": [
    "#### Create multiple Class variables pass in argument list in Python"
   ]
  },
  {
   "cell_type": "code",
   "execution_count": 13,
   "metadata": {},
   "outputs": [
    {
     "name": "stdout",
     "output_type": "stream",
     "text": [
      "25\n",
      "John Doe\n"
     ]
    }
   ],
   "source": [
    "class Employee(object):\n",
    "    def __init__(self, **kwargs):\n",
    "        for key in kwargs:\n",
    "            setattr(self, key, kwargs[key])\n",
    "            \n",
    "emp = Employee(age = 25, name = \"John Doe\") \n",
    "print(emp.age)\n",
    "print(emp.name)"
   ]
  },
  {
   "cell_type": "markdown",
   "metadata": {},
   "source": [
    "#### Wrap Decorator in Python"
   ]
  },
  {
   "cell_type": "code",
   "execution_count": 14,
   "metadata": {},
   "outputs": [
    {
     "name": "stdout",
     "output_type": "stream",
     "text": [
      "Starting script...\n",
      "Before original function with decorator args:  test1 test2\n",
      "Hello John\n",
      "Ran after the original function\n",
      "The value of x is:  25\n",
      "The wrapped functions docstring is:  A function which prints greeting to the name provided.\n",
      "    \n",
      "The wrapped functions name is:  hello\n"
     ]
    }
   ],
   "source": [
    "from functools import wraps\n",
    "\n",
    "def decorator_func_with_args(arg1, arg2):\n",
    "    def decorator(f):\n",
    "        @wraps(f)\n",
    "        def wrapper(*args, **kwargs):\n",
    "            print(\"Before original function with decorator args: \", arg1, arg2)\n",
    "            result = f(*args, **kwargs)\n",
    "            print(\"Ran after the original function\")\n",
    "            return  result\n",
    "        return wrapper\n",
    "    return decorator\n",
    "\n",
    "@decorator_func_with_args(\"test1\", \"test2\")\n",
    "def hello(name):\n",
    "    \"\"\"A function which prints greeting to the name provided.\n",
    "    \"\"\"\n",
    "    print(\"Hello\", name)\n",
    "    return 25\n",
    "\n",
    "print(\"Starting script...\")\n",
    "x = hello('John')\n",
    "print('The value of x is: ', x)\n",
    "print('The wrapped functions docstring is: ', hello.__doc__)\n",
    "print('The wrapped functions name is: ', hello.__name__)"
   ]
  },
  {
   "cell_type": "markdown",
   "metadata": {},
   "source": [
    "#### How to build a decorator with optional parameters?"
   ]
  },
  {
   "cell_type": "code",
   "execution_count": 15,
   "metadata": {},
   "outputs": [
    {
     "name": "stdout",
     "output_type": "stream",
     "text": [
      "This is working\n",
      "Hello World!\n",
      "my default message\n",
      "hello2 world!\n",
      "Applying it twice\n",
      "Would also work\n",
      "hello3 world!\n"
     ]
    }
   ],
   "source": [
    "def d(arg):\n",
    "    if callable(arg): #Assumes optional argument isn't.\n",
    "        def newfn():\n",
    "            print('my default message')\n",
    "            return arg()\n",
    "        return newfn\n",
    "    else:\n",
    "        def d2(fn):\n",
    "            def newfn():\n",
    "                print(arg)\n",
    "                return fn()\n",
    "            return newfn\n",
    "        return d2\n",
    "    \n",
    "@d('This is working')\n",
    "def hello():\n",
    "    print(\"Hello World!\")\n",
    "    \n",
    "@d # No explicit arguments will result in default message.\n",
    "def hello2():\n",
    "    print('hello2 world!')\n",
    "    \n",
    "@d('Applying it twice')\n",
    "@d('Would also work')\n",
    "def hello3():\n",
    "    print(\"hello3 world!\")\n",
    "    \n",
    "hello()\n",
    "hello2()\n",
    "hello3()"
   ]
  },
  {
   "cell_type": "markdown",
   "metadata": {},
   "source": [
    "#### Passing Arguments to the Decorator in Python"
   ]
  },
  {
   "cell_type": "code",
   "execution_count": 17,
   "metadata": {},
   "outputs": [
    {
     "name": "stdout",
     "output_type": "stream",
     "text": [
      "The wrapper can access all the variables \n",
      "\t- from the decorator maker: canada us brazil\n",
      "\t- from the function call: france germany uk\n",
      "and pass them to the decorated function\n",
      "This is the decorated function and it only knows about its arguments: france germany uk\n"
     ]
    }
   ],
   "source": [
    "def decorator_maker_with_arguments(decorator_arg1, decorator_arg2, decorator_arg3):\n",
    "    def decorator(func):\n",
    "        def wrapper(function_arg1, function_arg2, function_arg3):\n",
    "            print(\"The wrapper can access all the variables \\n\"\n",
    "                 \"\\t- from the decorator maker: {0} {1} {2}\\n\"\n",
    "                 \"\\t- from the function call: {3} {4} {5}\\n\"\n",
    "                 \"and pass them to the decorated function\"\n",
    "                .format(decorator_arg1, decorator_arg2, decorator_arg3,\n",
    "                       function_arg1, function_arg2, function_arg3))\n",
    "            return func(function_arg1, function_arg2, function_arg3)\n",
    "            \n",
    "        return wrapper\n",
    "    \n",
    "    return decorator\n",
    "\n",
    "@decorator_maker_with_arguments(\"canada\", \"us\", \"brazil\")\n",
    "def decorated_function_with_arguments(function_arg1, function_arg2, function_arg3):\n",
    "    print(\"This is the decorated function and it only knows about its arguments: {0}\"\n",
    "         \" {1}\" \" {2}\".format(function_arg1, function_arg2, function_arg3))\n",
    "    \n",
    "decorated_function_with_arguments(\"france\", \"germany\", \"uk\")"
   ]
  },
  {
   "cell_type": "markdown",
   "metadata": {},
   "source": [
    "#### How does the @property decorator work in Python?"
   ]
  },
  {
   "cell_type": "code",
   "execution_count": 2,
   "metadata": {},
   "outputs": [
    {
     "name": "stdout",
     "output_type": "stream",
     "text": [
      "10 20 1020\n",
      "15 20 1520\n",
      "15 35 1535\n"
     ]
    }
   ],
   "source": [
    "class Currency:\n",
    "    def __init__(self, dollars, cents):\n",
    "        self.total_cents = dollars * 100 + cents\n",
    "        \n",
    "    @property\n",
    "    def dollars(self):\n",
    "        return self.total_cents // 100\n",
    "        \n",
    "    @dollars.setter\n",
    "    def dollars(self, new_dollars):\n",
    "        self.total_cents = 100 * new_dollars + self.cents\n",
    "        \n",
    "    @property\n",
    "    def cents(self):\n",
    "        return self.total_cents % 100\n",
    "    \n",
    "    @cents.setter\n",
    "    def cents(self, new_cents):\n",
    "        self.total_cents = 100 * self.dollars + new_cents\n",
    "        \n",
    "currency = Currency(10, 20)\n",
    "print(currency.dollars, currency.cents, currency.total_cents)\n",
    "\n",
    "currency.dollars += 5\n",
    "print(currency.dollars, currency.cents, currency.total_cents)\n",
    "\n",
    "currency.cents += 15\n",
    "print(currency.dollars, currency.cents, currency.total_cents)"
   ]
  },
  {
   "cell_type": "markdown",
   "metadata": {},
   "source": [
    "#### Decorator of classes and functions"
   ]
  },
  {
   "cell_type": "code",
   "execution_count": 3,
   "metadata": {},
   "outputs": [
    {
     "name": "stdout",
     "output_type": "stream",
     "text": [
      "sth to log: sum_func : (1, 5, 16)\n",
      "class sum: 21\n",
      "21\n"
     ]
    }
   ],
   "source": [
    "from functools import wraps\n",
    "\n",
    "def decorator(func):\n",
    "    @wraps(func)\n",
    "    def wrapper(*args, **kwargs):\n",
    "        print('sth to log: %s : %s' % (func.__name__, args))\n",
    "        return func(*args, **kwargs)\n",
    "    return wrapper\n",
    "\n",
    "class Class_test(object):\n",
    "    @decorator\n",
    "    def sum_func(self, a, b):\n",
    "        print('class sum: %s' % (a + b))\n",
    "        return a + b\n",
    "\n",
    "print(Class_test.sum_func(1, 5, 16))"
   ]
  },
  {
   "cell_type": "markdown",
   "metadata": {},
   "source": [
    "#### Decorator with arguments and return value in Python"
   ]
  },
  {
   "cell_type": "code",
   "execution_count": 4,
   "metadata": {},
   "outputs": [
    {
     "name": "stdout",
     "output_type": "stream",
     "text": [
      "Inside the calculation function.\n",
      "Inside the addition function.\n",
      "Before return from calculation function.\n",
      "Sum =  15\n"
     ]
    }
   ],
   "source": [
    "def calculation(func):\n",
    "    def wrapper(*args, **kwargs):\n",
    "        \n",
    "        print(\"Inside the calculation function.\")\n",
    "        \n",
    "        num_sum = func(*args, **kwargs)\n",
    "        print(\"Before return from calculation function.\")\n",
    "        \n",
    "        return num_sum\n",
    "    \n",
    "    return wrapper\n",
    "\n",
    "@calculation\n",
    "def addition(a, b):\n",
    "    print(\"Inside the addition function.\")\n",
    "    return a + b\n",
    "\n",
    "print(\"Sum = \", addition(5, 10))"
   ]
  },
  {
   "cell_type": "markdown",
   "metadata": {},
   "source": [
    "#### How to access the class of an instance method from a decorator?"
   ]
  },
  {
   "cell_type": "code",
   "execution_count": 1,
   "metadata": {},
   "outputs": [
    {
     "name": "stdout",
     "output_type": "stream",
     "text": [
      "Before instantiating Bar()\n",
      "Calling b.foo()\n",
      "decorating function in  Bar\n",
      "in foo\n"
     ]
    }
   ],
   "source": [
    "class Decorator(object):\n",
    "    def __init__(self, decoratee_enclosing_class):\n",
    "        self.decoratee_enclosing_class = decoratee_enclosing_class\n",
    "        \n",
    "    def __call__(self, original_func):\n",
    "        def new_function(*args, **kwargs):\n",
    "            print('decorating function in ', self.decoratee_enclosing_class)\n",
    "            original_func(*args, **kwargs)\n",
    "        return new_function\n",
    "    \n",
    "class Bar(object):\n",
    "    @Decorator('Bar')\n",
    "    def foo(self):\n",
    "        print('in foo')\n",
    "        \n",
    "class Baz(object):\n",
    "    @Decorator('Baz')\n",
    "    def foo(self):\n",
    "        print('in foo')\n",
    "        \n",
    "print('Before instantiating Bar()')\n",
    "b = Bar()\n",
    "print('Calling b.foo()')\n",
    "b.foo()"
   ]
  },
  {
   "cell_type": "markdown",
   "metadata": {},
   "source": [
    "#### What is the difference between __init__ and __call__?\n",
    "__init__ would be treated as Constructor where as __call__ methods can be called with objects any number of times. Both __init__ and __call__ functions do take default arguments."
   ]
  },
  {
   "cell_type": "code",
   "execution_count": 4,
   "metadata": {},
   "outputs": [
    {
     "name": "stdout",
     "output_type": "stream",
     "text": [
      "1 No. from __init__\n",
      "2 No. from __call__\n",
      "4 No. from __call__\n",
      "8 No. from __call__\n",
      "16 No. from __call__\n"
     ]
    }
   ],
   "source": [
    "class Counter:\n",
    "    def __init__(self):\n",
    "        self._weights = []\n",
    "        for i in range(0, 2):\n",
    "            self._weights.append(1)\n",
    "        print(str(self._weights[-2]) + \" No. from __init__\")\n",
    "        \n",
    "    def __call__(self, t):\n",
    "        self._weights = [self._weights[-1], self._weights[-1]\n",
    "                         + self._weights[-1]]\n",
    "        print(str(self._weights[-1]) + \" No. from __call__\")\n",
    "        \n",
    "num_count = Counter()\n",
    "for i in range(0, 4):\n",
    "    num_count(i)"
   ]
  },
  {
   "cell_type": "markdown",
   "metadata": {},
   "source": [
    "#### How to use __new__ and __init__ in Python?\n",
    "Use __new__ when you need to control the creation of a new instance. Use __init__ when you need to control initialization of a new instance."
   ]
  },
  {
   "cell_type": "code",
   "execution_count": 7,
   "metadata": {},
   "outputs": [
    {
     "name": "stdout",
     "output_type": "stream",
     "text": [
      "<class '__main__.Triangle'>\n",
      "12.0\n",
      "<class '__main__.Square'>\n",
      "4\n"
     ]
    }
   ],
   "source": [
    "class Shape:\n",
    "    def __new__(cls, sides, *args, **kwargs):\n",
    "        if sides == 3:\n",
    "            return Triangle(*args, **kwargs)\n",
    "        else:\n",
    "            return Square(*args, **kwargs)\n",
    "        \n",
    "class Triangle:\n",
    "    def __init__(self, base, height):\n",
    "        self.base = base\n",
    "        self.height = height\n",
    "        \n",
    "    def area(self):\n",
    "        return (self.base * self.height) / 2\n",
    "    \n",
    "class Square:\n",
    "    def __init__(self, length):\n",
    "        self.length = length\n",
    "        \n",
    "    def area(self):\n",
    "        return self.length*self.length\n",
    "    \n",
    "a = Shape(sides = 3, base = 2, height = 12)\n",
    "b = Shape(sides = 4, length = 2)\n",
    "\n",
    "print(str(a.__class__))\n",
    "print(a.area())\n",
    "\n",
    "print(str(b.__class__))\n",
    "print(b.area())"
   ]
  },
  {
   "cell_type": "markdown",
   "metadata": {},
   "source": [
    "#### Iteration Overloading Methods in Python\n",
    "The __iter__ returns the iterator object and is implicitly called at the start of loops. The __next__ method returns the next value and is implicitly called at each loop increment. __next__ raises a StopIteration exception when there are no more value to return, which is implicitly captured by looping constructs to stop iterating."
   ]
  },
  {
   "cell_type": "code",
   "execution_count": 8,
   "metadata": {},
   "outputs": [
    {
     "name": "stdout",
     "output_type": "stream",
     "text": [
      "5\n",
      "6\n",
      "7\n",
      "8\n",
      "9\n",
      "10\n",
      "11\n",
      "12\n",
      "13\n",
      "14\n",
      "15\n"
     ]
    }
   ],
   "source": [
    "class Counter:\n",
    "    def __init__(self, low, high):\n",
    "        self.current = low\n",
    "        self.high = high\n",
    "        \n",
    "    def __iter__(self):\n",
    "        return self\n",
    "    \n",
    "    def __next__(self):\n",
    "        if self.current > self.high:\n",
    "            raise StopIteration\n",
    "        else:\n",
    "            self.current += 1\n",
    "            return self.current - 1\n",
    "        \n",
    "for num in Counter(5, 15):\n",
    "    print(num)"
   ]
  },
  {
   "cell_type": "markdown",
   "metadata": {},
   "source": [
    "#### How to reverse a string using Iterator in Python?\n",
    "Iterators implement a __next__ method that returns individual items, and a __iter__ method that returns self ."
   ]
  },
  {
   "cell_type": "code",
   "execution_count": 10,
   "metadata": {},
   "outputs": [
    {
     "name": "stdout",
     "output_type": "stream",
     "text": [
      "n\n",
      "o\n",
      "h\n",
      "t\n",
      "y\n",
      "P\n"
     ]
    }
   ],
   "source": [
    "class Reverse:\n",
    "    def __init__(self, data):\n",
    "        self.data = data\n",
    "        self.index = len(data)\n",
    "        \n",
    "    def __iter__(self):\n",
    "        return self\n",
    "    \n",
    "    def __next__(self):\n",
    "        if self.index == 0:\n",
    "            raise StopIteration\n",
    "        self.index = self.index - 1\n",
    "        return self.data[self.index]\n",
    "    \n",
    "test = Reverse(\"Python\")\n",
    "for char in test:\n",
    "    print(char)"
   ]
  },
  {
   "cell_type": "markdown",
   "metadata": {},
   "source": [
    "#### Example of __reversed__ Magic method in Python?\n",
    "Iterables can implement __reversed__ to return an iterator that goes backwards."
   ]
  },
  {
   "cell_type": "code",
   "execution_count": 12,
   "metadata": {},
   "outputs": [
    {
     "name": "stdout",
     "output_type": "stream",
     "text": [
      "0\n",
      "1\n",
      "2\n",
      "3\n",
      "4\n",
      "5\n",
      "4\n",
      "3\n",
      "2\n",
      "1\n",
      "0\n"
     ]
    }
   ],
   "source": [
    "class Count:\n",
    "    def __init__(self, start, end):\n",
    "        self.start = start\n",
    "        self.end = end\n",
    "        self.current = None\n",
    "        \n",
    "    def __iter__(self):\n",
    "        self.current = self.start\n",
    "        while self.current < self.end:\n",
    "            yield self.current\n",
    "            self.current += 1\n",
    "            \n",
    "    def __next__(self):\n",
    "        if self.current is None:\n",
    "            self.current = self.start\n",
    "        if self.current > self.end:\n",
    "            raise StopIteration\n",
    "        else:\n",
    "            self.current += 1\n",
    "            return self.current - 1\n",
    "        \n",
    "    def __reversed__(self):\n",
    "        self.current = self.end\n",
    "        while self.current >= self.start:\n",
    "            yield self.current\n",
    "            self.current -= 1\n",
    "            \n",
    "obj1 = Count(0, 5)\n",
    "for i in obj1:\n",
    "    print(i)\n",
    "    \n",
    "obj2 = reversed(obj1)\n",
    "for i in obj2:\n",
    "    print(i)"
   ]
  },
  {
   "cell_type": "markdown",
   "metadata": {},
   "source": [
    "#### Example of __getitem__ and __setitem__ in Python"
   ]
  },
  {
   "cell_type": "code",
   "execution_count": 16,
   "metadata": {},
   "outputs": [
    {
     "name": "stdout",
     "output_type": "stream",
     "text": [
      "IJKL\n"
     ]
    }
   ],
   "source": [
    "class Counter(object):\n",
    "    def __init__(self, floors):\n",
    "        self._floors = [None] * floors\n",
    "        \n",
    "    def __setitem__(self, floor_number, data):\n",
    "        self._floors[floor_number] = data\n",
    "        \n",
    "    def __getitem__(self, floor_number):\n",
    "        return self._floors[floor_number]\n",
    "    \n",
    "index = Counter(4)\n",
    "index[0] = 'ABCD'\n",
    "index[1] = 'EFGH'\n",
    "index[2] = 'IJKL'\n",
    "index[3] = 'MNOP'\n",
    "\n",
    "print(index[2])"
   ]
  },
  {
   "cell_type": "markdown",
   "metadata": {},
   "source": [
    "#### Attribute assignment using __getattr__ and __setattr__ in Python\n",
    "The __getattr__ method intercepts attribute references and the __setattr__ intercepts all attribute assignments."
   ]
  },
  {
   "cell_type": "code",
   "execution_count": 17,
   "metadata": {},
   "outputs": [
    {
     "name": "stdout",
     "output_type": "stream",
     "text": [
      "23\n",
      "John\n",
      "{'age': 23, 'name': 'John'}\n",
      "0\n",
      "50000\n"
     ]
    }
   ],
   "source": [
    "class Employee(object):\n",
    "    def __init__(self, data):\n",
    "        super().__setattr__('data', dict())\n",
    "        self.data = data\n",
    "        \n",
    "    def __getattr__(self, name):\n",
    "        if name in self.data:\n",
    "            return self.data[name]\n",
    "        else:\n",
    "            return 0\n",
    "        \n",
    "    def __setattr__(self, key, value):\n",
    "        if key in self.data:\n",
    "            self.data[key] = value\n",
    "        else:\n",
    "            super().__setattr__(key, value)\n",
    "            \n",
    "emp = Employee({'age': 23, \"name\": \"John\"})\n",
    "print(emp.age)\n",
    "print(emp.name)\n",
    "print(emp.data)\n",
    "print(emp.salary)\n",
    "\n",
    "emp.salary = 50000\n",
    "print(emp.salary)"
   ]
  },
  {
   "cell_type": "markdown",
   "metadata": {},
   "source": [
    "#### What is the __del__ method and how to call it?\n",
    "The __del__ is a finalizer. It is called when an object is garbage collected which happens at some point after all references to the object have been deleted."
   ]
  },
  {
   "cell_type": "code",
   "execution_count": 18,
   "metadata": {},
   "outputs": [
    {
     "name": "stdout",
     "output_type": "stream",
     "text": [
      "HelloMark\n",
      "<__main__.Employee object at 0x000001D466DAF880>\n",
      "Good bye Mark\n",
      "Rocky\n"
     ]
    }
   ],
   "source": [
    "class Employee():\n",
    "    def __init__(self, name = \"John Doe\"):\n",
    "        print('Hello' + name)\n",
    "        self.name = name\n",
    "        \n",
    "    def developer(self):\n",
    "        print(self.name)\n",
    "        \n",
    "    def __del__(self):\n",
    "        print(\"Good bye \" + self.name)\n",
    "        \n",
    "emp = Employee('Mark')\n",
    "print(emp)\n",
    "\n",
    "emp = 'Rocky'\n",
    "print(emp)"
   ]
  },
  {
   "cell_type": "markdown",
   "metadata": {},
   "source": [
    "#### How to create Private members of Class?\n",
    "If the name of a Python function, class method, or attribute starts with (but doesn't end with) two underscores, it's private; everything else is public."
   ]
  },
  {
   "cell_type": "code",
   "execution_count": 19,
   "metadata": {},
   "outputs": [
    {
     "name": "stdout",
     "output_type": "stream",
     "text": [
      "Private Function\n",
      "100\n",
      "None\n",
      "Public Function\n",
      "200\n",
      "None\n"
     ]
    }
   ],
   "source": [
    "class Test(object):\n",
    "    __private_var = 100\n",
    "    public_var = 200\n",
    "    \n",
    "    def __private_func(self):\n",
    "        print('Private Function')\n",
    "        \n",
    "    def public_func(self):\n",
    "        print('Public Function')\n",
    "        print(self.public_var)\n",
    "        \n",
    "    def call_private(self):\n",
    "        self.__private_func()\n",
    "        print(self.__private_var)    \n",
    "        \n",
    "t = Test()\n",
    "print(t.call_private())\n",
    "print(t.public_func())"
   ]
  },
  {
   "cell_type": "markdown",
   "metadata": {},
   "source": [
    "#### Give an example of encapsulation in Python\n",
    "The wrapping up of data and functions into a single unit (called class) is known as encapsulation. Data encapsulation is the most striking feature of a class. The data is not accessible to the outside world, and only those functions, which are wrapped in the class, can access it. These functions provide the interface between the object’s data and the program. This insulation of the data from direct access by the program is called data hiding or information hiding."
   ]
  },
  {
   "cell_type": "code",
   "execution_count": 20,
   "metadata": {},
   "outputs": [
    {
     "name": "stdout",
     "output_type": "stream",
     "text": [
      "Rocky\n"
     ]
    }
   ],
   "source": [
    "class Encapsulation:\n",
    "    __name = None\n",
    "    \n",
    "    def __init__(self, name):\n",
    "        self.__name = name\n",
    "        \n",
    "    def get_name(self):\n",
    "        return self.__name\n",
    "    \n",
    "pobj = Encapsulation('Rocky')\n",
    "print(pobj.get_name())"
   ]
  },
  {
   "cell_type": "markdown",
   "metadata": {},
   "source": [
    "#### Give an example of Composition in Python\n",
    "In composition one of the classes is composed of one or more instance of other classes. In other words one class is container and other class is content and if you delete the container object then all of its contents objects are also deleted."
   ]
  },
  {
   "cell_type": "code",
   "execution_count": 21,
   "metadata": {},
   "outputs": [
    {
     "name": "stdout",
     "output_type": "stream",
     "text": [
      "Total: 7700\n"
     ]
    }
   ],
   "source": [
    "class Salary:\n",
    "    def __init__(self, pay):\n",
    "        self.pay = pay\n",
    "        \n",
    "    def get_total(self):\n",
    "        return (self.pay*12)\n",
    "    \n",
    "class Employee:\n",
    "    def __init__(self, pay, bonus):\n",
    "        self.pay = pay\n",
    "        self.bonus = bonus\n",
    "        self.obj_salary = Salary(self.pay)\n",
    "        \n",
    "    def annual_salary(self):\n",
    "        return \"Total: \" + str(self.obj_salary.get_total() + self.bonus)\n",
    "    \n",
    "obj_emp = Employee(600, 500)\n",
    "print(obj_emp.annual_salary())"
   ]
  },
  {
   "cell_type": "markdown",
   "metadata": {},
   "source": [
    "#### Give an example of Aggregation in Python\n",
    "Aggregation is a week form of composition. If you delete the container object contents objects can live without container object."
   ]
  },
  {
   "cell_type": "code",
   "execution_count": 22,
   "metadata": {},
   "outputs": [
    {
     "name": "stdout",
     "output_type": "stream",
     "text": [
      "Total: 7700\n"
     ]
    }
   ],
   "source": [
    "class Salary:\n",
    "    def __init__(self, pay):\n",
    "        self.pay = pay\n",
    "        \n",
    "    def get_total(self):\n",
    "        return (self.pay*12)\n",
    "    \n",
    "class Employee:\n",
    "    def __init__(self, pay, bonus):\n",
    "        self.pay = pay\n",
    "        self.bonus = bonus\n",
    "        \n",
    "    def annual_salary(self):\n",
    "        return \"Total: \" + str(self.pay.get_total() + self.bonus)\n",
    "    \n",
    "obj_sal = Salary(600)\n",
    "obj_emp = Employee(obj_sal, 500)\n",
    "print(obj_emp.annual_salary())"
   ]
  },
  {
   "cell_type": "markdown",
   "metadata": {},
   "source": [
    "#### Single, Multiple and Multi-level Inheritance in Python"
   ]
  },
  {
   "cell_type": "code",
   "execution_count": 2,
   "metadata": {},
   "outputs": [
    {
     "name": "stdout",
     "output_type": "stream",
     "text": [
      "This MacBook was manufactured in 2018, by Apple Inc.\n",
      "Multitasking system\n",
      "Name: Mac OS\n",
      "The guitar consists of {0} strings,it is made of Tonewood and can play 12 keys.\n"
     ]
    }
   ],
   "source": [
    "#Single inheritance.\n",
    "class Apple:\n",
    "    manufacturer = 'Apple Inc'\n",
    "    contact_website = 'www.apple.com/contact'\n",
    "    name = 'Apple'\n",
    " \n",
    "    def contact_details(self):\n",
    "        print('Contact us at ', self.contact_website)\n",
    " \n",
    " \n",
    "class MacBook(Apple):\n",
    "    def __init__(self):\n",
    "        self.year_of_manufacture = 2018\n",
    " \n",
    "    def manufacture_details(self):\n",
    "        print('This MacBook was manufactured in {0}, by {1}.'\n",
    "              .format(self.year_of_manufacture, self.manufacturer))\n",
    " \n",
    " \n",
    "macbook = MacBook()\n",
    "macbook.manufacture_details()\n",
    "\n",
    "#Multiple inheritance\n",
    "class OperatingSystem:\n",
    "    multitasking = True\n",
    "    name = 'Mac OS'\n",
    " \n",
    " \n",
    "class MacTower(OperatingSystem, Apple):\n",
    "    def __init__(self):\n",
    "        if self.multitasking is True:\n",
    "            print('Multitasking system')\n",
    "        # if there are two superclasses with the sae attribute name\n",
    "        # the attribute of the first inherited superclass will be called\n",
    "        # the order of inhertence matters\n",
    "        print('Name: {}'.format(self.name))\n",
    " \n",
    " \n",
    "mactower = MacTower()\n",
    "\n",
    "#Multilevel Inheritance\n",
    "class MusicalInstrument:\n",
    "    num_of_major_keys = 12\n",
    " \n",
    " \n",
    "class StringInstrument(MusicalInstrument):\n",
    "    type_of_wood = 'Tonewood'\n",
    " \n",
    " \n",
    "class Guitar(StringInstrument):\n",
    "    def __init__(self):\n",
    "        self.num_of_strings = 6\n",
    "        print('The guitar consists of {0} strings,' +\n",
    "              'it is made of {1} and can play {2} keys.'\n",
    "              .format(self.num_of_strings,\n",
    "                      self.type_of_wood, self.num_of_major_keys))\n",
    " \n",
    " \n",
    "guitar = Guitar()\n",
    " "
   ]
  },
  {
   "cell_type": "markdown",
   "metadata": {},
   "source": [
    "#### How to get the parents classes of a class in Python?"
   ]
  },
  {
   "cell_type": "code",
   "execution_count": 4,
   "metadata": {},
   "outputs": [
    {
     "name": "stdout",
     "output_type": "stream",
     "text": [
      "(<class '__main__.A'>, <class '__main__.B'>)\n"
     ]
    }
   ],
   "source": [
    "class A(object):\n",
    "    pass\n",
    "\n",
    "class B(object):\n",
    "    pass\n",
    "\n",
    "class C(A, B):\n",
    "    pass\n",
    "\n",
    "print(C.__bases__)"
   ]
  },
  {
   "cell_type": "markdown",
   "metadata": {},
   "source": [
    "#### Polymorphism in Python\n",
    "Polymorphism allows us to define methods in the child class with the same name as defined in their parent class."
   ]
  },
  {
   "cell_type": "code",
   "execution_count": 5,
   "metadata": {},
   "outputs": [
    {
     "name": "stdout",
     "output_type": "stream",
     "text": [
      "Area of the rectangle is :  200\n",
      "Area of the Triangle is :  10.0\n"
     ]
    }
   ],
   "source": [
    "#Creating a shape class\n",
    "class Shape:\n",
    "    width = 0\n",
    "    height = 0\n",
    "    \n",
    "    #Creating area method\n",
    "    def area(self):\n",
    "        print(\"Parent class Area...\")\n",
    "        \n",
    "#Creating a Rectangle class\n",
    "class Rectangle(Shape):\n",
    "    \n",
    "    def __init__(self, w, h):\n",
    "        self.width = w\n",
    "        self.height = h\n",
    "        \n",
    "    #overriding area method\n",
    "    def area(self):\n",
    "        print('Area of the rectangle is : ', self.width*self.height)\n",
    "        \n",
    "#creating a Triangle class\n",
    "class Triangle(Shape):\n",
    "    \n",
    "    def __init__(self, w, h):\n",
    "        self.width = w\n",
    "        self.height = h\n",
    "        \n",
    "    #overriding area method\n",
    "    def area(self):\n",
    "        print(\"Area of the Triangle is : \", (self.width*self.height/2))\n",
    "        \n",
    "rectangle = Rectangle(10, 20)\n",
    "triangle = Triangle(2, 10)\n",
    "\n",
    "rectangle.area()\n",
    "triangle.area()"
   ]
  },
  {
   "cell_type": "markdown",
   "metadata": {},
   "source": [
    "#### Access private members in Child class"
   ]
  },
  {
   "cell_type": "code",
   "execution_count": 10,
   "metadata": {},
   "outputs": [
    {
     "name": "stdout",
     "output_type": "stream",
     "text": [
      "Human class constructor\n",
      "this is redefined __private variable Vasya\n",
      "Private Method\n",
      "Human class constructor\n",
      "Male\n",
      "Human class constructor\n",
      "Female\n"
     ]
    }
   ],
   "source": [
    "class Human():\n",
    "    \n",
    "    #private var\n",
    "    __privateVar = 'this is __private variable'\n",
    "    \n",
    "    #constructor method\n",
    "    def __init__(self):\n",
    "        self.className = 'Human class constructor'\n",
    "        self.__privateVar = 'this is redefined __private variable'\n",
    "        \n",
    "    #public method\n",
    "    def showName(self, name):\n",
    "        self.name = name\n",
    "        return self.__privateVar + \" \" + name\n",
    "    \n",
    "    #private method\n",
    "    def __privateMethod(self):\n",
    "        return \"Private Method\"\n",
    "    \n",
    "    #public method that returns a private variables\n",
    "    def showPrivate(self):\n",
    "        return self.__privateMethod()\n",
    "    \n",
    "    def showProtected(self):\n",
    "        return self.protectedMethod()\n",
    "    \n",
    "class Male(Human):\n",
    "    def showClassName(self):\n",
    "        return \"Male\"\n",
    "    \n",
    "    def showPrivate(self):\n",
    "        return self.__privateMethod()\n",
    "    \n",
    "    def showProtected(self):\n",
    "        return self.__protectedMethod()\n",
    "    \n",
    "class Female(Human):\n",
    "    def showClassName(self):\n",
    "        return \"Female\"\n",
    "    \n",
    "    def showPrivate(self):\n",
    "        return self.__privateMethod()\n",
    "    \n",
    "human = Human()\n",
    "print(human.className)\n",
    "print(human.showName(\"Vasya\"))\n",
    "print(human.showPrivate())\n",
    "\n",
    "male = Male()\n",
    "print(male.className)\n",
    "print(male.showClassName())\n",
    "\n",
    "female = Female()\n",
    "print(female.className)\n",
    "print(female.showClassName())"
   ]
  },
  {
   "cell_type": "markdown",
   "metadata": {},
   "source": [
    "#### What is an abstract class in Python?\n",
    "Abstract classes are classes that contain one or more abstract methods. An abstract method is a method that is declared, but contains no implementation. Abstract classes may not be instantiated, and require sub-classes to provide implementations for the abstract methods"
   ]
  },
  {
   "cell_type": "code",
   "execution_count": 12,
   "metadata": {},
   "outputs": [
    {
     "name": "stdout",
     "output_type": "stream",
     "text": [
      "Adult\n",
      "Eat solid food 3 time each day.\n",
      "Infants\n",
      "Milk only 3times or more each day.\n"
     ]
    }
   ],
   "source": [
    "from abc import ABC, abstractmethod\n",
    "\n",
    "class AbstractClass(ABC):\n",
    "    def __init__(self, value):\n",
    "        self.value = value\n",
    "        super().__init__()\n",
    "        \n",
    "    @abstractmethod\n",
    "    def eat(self):\n",
    "        pass\n",
    "    \n",
    "class Parents(AbstractClass):\n",
    "    def eat(self):\n",
    "        return \"Eat solid food \" + str(self.value) + \" time each day.\"\n",
    "    \n",
    "class Babies(AbstractClass):\n",
    "    def eat(self):\n",
    "        return \"Milk only \" + str(self.value) + \"times or more each day.\"\n",
    "    \n",
    "food = 3\n",
    "adult = Parents(food)\n",
    "print('Adult')\n",
    "print(adult.eat())\n",
    "\n",
    "infant = Babies(food)\n",
    "print('Infants')\n",
    "print(infant.eat())"
   ]
  },
  {
   "cell_type": "markdown",
   "metadata": {},
   "source": [
    "#### Create an Abstract class to override default constructor in Python\n",
    "Making the __init__ an abstract method"
   ]
  },
  {
   "cell_type": "code",
   "execution_count": 13,
   "metadata": {},
   "outputs": [
    {
     "name": "stdout",
     "output_type": "stream",
     "text": [
      "10000\n",
      "John Doe\n"
     ]
    }
   ],
   "source": [
    "from abc import ABCMeta, abstractmethod\n",
    "\n",
    "class AbstractClass(object, metaclass = ABCMeta):\n",
    "    @abstractmethod\n",
    "    def __init__(self, n):\n",
    "        self.n = n\n",
    "        \n",
    "class Employee(AbstractClass):\n",
    "    def __init__(self, salary, name):\n",
    "        self.salary = salary\n",
    "        self.name = name\n",
    "        \n",
    "emp1 = Employee(10000, \"John Doe\")\n",
    "print(emp1.salary)\n",
    "print(emp1.name)"
   ]
  },
  {
   "cell_type": "markdown",
   "metadata": {},
   "source": [
    "#### Make an abstract class inherit from another abstract class\n",
    "A class that is derived from an abstract class cannot be instantiated unless all of its abstract methods are overridden."
   ]
  },
  {
   "cell_type": "code",
   "execution_count": 14,
   "metadata": {},
   "outputs": [
    {
     "name": "stdout",
     "output_type": "stream",
     "text": [
      "Test1234\n"
     ]
    }
   ],
   "source": [
    "from abc import ABC, abstractmethod\n",
    "\n",
    "class A(ABC):\n",
    "    def __init__(self, username):\n",
    "        self.username = username\n",
    "        super().__init__\n",
    "        \n",
    "    @abstractmethod\n",
    "    def name(self):\n",
    "        pass\n",
    "    \n",
    "class B(A):\n",
    "    @abstractmethod\n",
    "    def age(self):\n",
    "        pass\n",
    "    \n",
    "class C(B):\n",
    "    def name(self):\n",
    "        print(self.username)\n",
    "        \n",
    "    def age(self):\n",
    "        return\n",
    "    \n",
    "c = C('Test1234')\n",
    "c.name()"
   ]
  },
  {
   "cell_type": "markdown",
   "metadata": {},
   "source": [
    "#### What does super do in Python?\n",
    "In a class hierarchy with single inheritance, super can be used to refer to parent classes without naming them explicitly, thus making the code more maintainable. This use closely parallels the use of super in other programming languages."
   ]
  },
  {
   "cell_type": "code",
   "execution_count": 15,
   "metadata": {},
   "outputs": [
    {
     "name": "stdout",
     "output_type": "stream",
     "text": [
      "John Doe\n",
      "Developer\n"
     ]
    }
   ],
   "source": [
    "class A(object):\n",
    "    def __init__(self, profession):\n",
    "        print(profession)\n",
    "        \n",
    "class B(A):\n",
    "    def __init__(self):\n",
    "        print(\"John Doe\")\n",
    "        super().__init__('Developer')\n",
    "        \n",
    "b = B()"
   ]
  },
  {
   "cell_type": "markdown",
   "metadata": {},
   "source": [
    "#### How super() works with __init__() method in multiple inheritance?\n",
    "super support cooperative multiple inheritance in a dynamic execution environment. This use case is unique to Python and is not found in statically compiled languages or languages that only support single inheritance."
   ]
  },
  {
   "cell_type": "code",
   "execution_count": 2,
   "metadata": {},
   "outputs": [
    {
     "name": "stdout",
     "output_type": "stream",
     "text": [
      "A<bound method D.__init__ of <__main__.A object at 0x0000029F862B6910>>\n",
      "D<bound method B.__init__ of <__main__.A object at 0x0000029F862B6910>>\n",
      "B<bound method C.__init__ of <__main__.A object at 0x0000029F862B6910>>\n",
      "C<bound method E.__init__ of <__main__.A object at 0x0000029F862B6910>>\n",
      "E<bound method G.__init__ of <__main__.A object at 0x0000029F862B6910>>\n",
      "G<bound method H.__init__ of <__main__.A object at 0x0000029F862B6910>>\n",
      "H<bound method F.__init__ of <__main__.A object at 0x0000029F862B6910>>\n",
      "F<method-wrapper '__init__' of A object at 0x0000029F862B6910>\n",
      "<__main__.A object at 0x0000029F862B6910>\n"
     ]
    }
   ],
   "source": [
    "class F:\n",
    "    def __init__(self):\n",
    "        print('F%s' % super().__init__)\n",
    "        super().__init__()\n",
    "        \n",
    "class G:\n",
    "    def __init__(self):\n",
    "        print('G%s' % super().__init__)\n",
    "        super().__init__()\n",
    "        \n",
    "class H:\n",
    "    def __init__(self):\n",
    "        print('H%s' % super().__init__)\n",
    "        super().__init__()\n",
    "        \n",
    "class E(G, H):\n",
    "    def __init__(self):\n",
    "        print('E%s' % super().__init__)\n",
    "        super().__init__()\n",
    "        \n",
    "class D(E, F):\n",
    "    def __init__(self):\n",
    "        print('D%s' % super().__init__)\n",
    "        super().__init__()\n",
    "        \n",
    "class C(E, G):\n",
    "    def __init__(self):\n",
    "        print('C%s' % super().__init__)\n",
    "        super().__init__()\n",
    "        \n",
    "class B(C, H):\n",
    "    def __init__(self):\n",
    "        print('B%s' % super().__init__)\n",
    "        super().__init__()\n",
    "        \n",
    "class A(D, B, E):\n",
    "    def __init__(self):\n",
    "        print('A%s' % super().__init__)\n",
    "        super().__init__()\n",
    "        \n",
    "a = A()\n",
    "print(a)"
   ]
  },
  {
   "cell_type": "markdown",
   "metadata": {},
   "source": [
    "#### How to use super with a class method?\n",
    "When calling super to resolve to a parent's version of a class-method, instance method, or static-method, we want to pass the current class whose scope we are in as the first argument, to indicate which parent's scope we're trying to resolve to, and as a second argument the object of interest to indicate which object we're trying to apply that scope to."
   ]
  },
  {
   "cell_type": "code",
   "execution_count": 4,
   "metadata": {},
   "outputs": [
    {
     "name": "stdout",
     "output_type": "stream",
     "text": [
      "Employee name:  John Doe\n"
     ]
    }
   ],
   "source": [
    "class A(object):\n",
    "    @classmethod\n",
    "    def name(self, employee):\n",
    "        print('Employee name: ', employee)\n",
    "        \n",
    "class B(A):\n",
    "    @classmethod\n",
    "    def name(self, employee):\n",
    "        super(B, self).name(employee)\n",
    "            \n",
    "B.name('John Doe')"
   ]
  },
  {
   "cell_type": "markdown",
   "metadata": {},
   "source": [
    "#### What does mro do?\n",
    "mro stands for Method Resolution Order. It returns a list of types the class is derived from, in the order they are searched for methods."
   ]
  },
  {
   "cell_type": "code",
   "execution_count": 5,
   "metadata": {},
   "outputs": [
    {
     "name": "stdout",
     "output_type": "stream",
     "text": [
      "From B1 class\n",
      "(<class '__main__.D1'>, <class '__main__.B1'>, <class '__main__.B3'>, <class '__main__.A'>, <class 'object'>)\n",
      "From B1 class\n",
      "(<class '__main__.D2'>, <class '__main__.B1'>, <class '__main__.A'>, <class '__main__.B2'>, <class 'object'>)\n"
     ]
    }
   ],
   "source": [
    "class A(object):\n",
    "    def dothis(self):\n",
    "        print(\"From A class\")\n",
    "        \n",
    "class B1(A):\n",
    "    def dothis(self):\n",
    "        print(\"From B1 class\")\n",
    "    pass\n",
    "    \n",
    "class B2(object):\n",
    "    def dothis(self):\n",
    "        print(\"From B2 class\")\n",
    "    pass\n",
    "\n",
    "class B3(A):\n",
    "    def dothis(self):\n",
    "        print(\"From B3 class\")\n",
    "    pass\n",
    "\n",
    "#Diamond inheritance\n",
    "class D1(B1, B3):\n",
    "    pass\n",
    "\n",
    "class D2(B1, B2):\n",
    "    pass\n",
    "\n",
    "d1_instance = D1()\n",
    "d1_instance.dothis()\n",
    "print(D1.__mro__)\n",
    "\n",
    "d2_instance = D2()\n",
    "d2_instance.dothis()\n",
    "print(D2.__mro__)"
   ]
  },
  {
   "cell_type": "markdown",
   "metadata": {},
   "source": [
    "#### What are metaclasses in Python?"
   ]
  },
  {
   "cell_type": "code",
   "execution_count": 1,
   "metadata": {},
   "outputs": [
    {
     "name": "stdout",
     "output_type": "stream",
     "text": [
      "Name: John Doe\n",
      "Salary: 25000\n",
      "Title: Developer\n",
      "Bonus: 5000\n"
     ]
    }
   ],
   "source": [
    "def _addMethod(fldName, clsName, verb, methodMaker, dict):\n",
    "    compiledName = _getCompiledName(fldName, clsName)\n",
    "    methodName = _getMethodName(fldName, verb)\n",
    "    dict[methodName] = methodMaker(compiledName)\n",
    "    \n",
    "def _getCompiledName(fldName, clsName):\n",
    "    if fldName[:2] == \"__\" and fldName[-2:] != \"__\":\n",
    "        return \"%s%s\" % (clsName, fldName)\n",
    "    else:\n",
    "        return fldName\n",
    "    \n",
    "def _getMethodName(fldName, verb):\n",
    "    s = fldName.lstrip(\"_\")\n",
    "    return verb + s.capitalize()\n",
    "\n",
    "def _makeGetter(compiledName):\n",
    "    return lambda self: self.__dict__[compiledName]\n",
    "\n",
    "def _makeSetter(compiledName):\n",
    "    return lambda self, value: setattr(self, compiledName, value)\n",
    "\n",
    "class Accessors(type):\n",
    "    def __new__(cls, clsName, bases, dict):\n",
    "        for fldName in dict.get(\"_READ\", []) + dict.get(\"_READ_WRITE\", []):\n",
    "            _addMethod(fldName, clsName, \"get\", _makeGetter, dict)\n",
    "        for fldName in dict.get(\"_WRITE\", []) + dict.get(\"_READ_WRITE\", []):\n",
    "            _addMethod(fldName, clsName, \"set\", _makeSetter, dict)\n",
    "        return type.__new__(cls, clsName, bases, dict)\n",
    "    \n",
    "class Employee(object, metaclass = Accessors):\n",
    "    _READ_WRITE = ['name', 'salary', 'title', 'bonus']\n",
    "    \n",
    "    def __init__(self, name, salary, title, bonus = 0):\n",
    "        self.name = name\n",
    "        self.salary = salary\n",
    "        self.title = title\n",
    "        self.bonus = bonus\n",
    "        \n",
    "b = Employee('John Doe', 25000, 'Developer', 5000)\n",
    "print('Name:', b.getName())\n",
    "print('Salary:', b.getSalary())\n",
    "print('Title:', b.getTitle())\n",
    "print('Bonus:', b.getBonus())"
   ]
  },
  {
   "cell_type": "markdown",
   "metadata": {},
   "source": [
    "#### What are concrete use-cases for metaclasses?\n",
    "Metaclass allows you to separate what the class does from the details of how it's created. The metaclass and class are each responsible for one thing. You can write the code once in a metaclass, and use it for customizing several classes call behavior without worrying about multiple inheritance. Subclasses can override behavior in their __new__ method, but __call__ on a metaclass doesn't have to even call __new__ at all. If there is setup work, you can do it in the __new__ method of the metaclass, and it only happens once, instead of every time the class is called."
   ]
  },
  {
   "cell_type": "code",
   "execution_count": 6,
   "metadata": {},
   "outputs": [
    {
     "name": "stdout",
     "output_type": "stream",
     "text": [
      "1. Create a newtype, from UpperAttrNameMetaClass.__new__\n",
      "2. Initialize new type, increase test attribute,from UpperAttrNameMetaClass.__init__\n",
      "3. Instantiate the new class, from UpperAttrNameMetaClass.__call__\n",
      "4. Call __new__ in  the __call__ of the metaclass, from Pig.__new__\n",
      "5. After the new object is instantiated in the __call__ of the metaclass, the object is promoted, from Pig.__init__\n",
      "Mark\n",
      "{'__module__': '__main__', 'SIZE': 'Pig', '__new__': <staticmethod object at 0x000001D3248ABD60>, '__init__': <function Pig.__init__ at 0x000001D324943AF0>, 'talk': <function Pig.talk at 0x000001D324943B80>, '__dict__': <attribute '__dict__' of 'Pig' objects>, '__weakref__': <attribute '__weakref__' of 'Pig' objects>, '__doc__': None, 'test': 'test'}\n",
      "Pig\n",
      "John 28\n",
      "{'NAME': 'John', 'AGE': 28}\n"
     ]
    }
   ],
   "source": [
    "class UpperAttrNameMetaClass(type):\n",
    "    def __new__(cls, clsname, bases, attrdict, *args, **kwargs):\n",
    "        print('1. Create a newtype, from' + \n",
    "             ' UpperAttrNameMetaClass.__new__')\n",
    "        new_attrs = dict()\n",
    "        for attr, value in attrdict.items():\n",
    "            if not callable(value) and not str(attr).startswith('__'):\n",
    "                new_attrs[attr.upper()] = value\n",
    "            else:\n",
    "                new_attrs[attr] = value\n",
    "                \n",
    "        cls_obj = super().__new__(cls, clsname, bases, new_attrs, \n",
    "                                 *args, **kwargs)\n",
    "        return cls_obj\n",
    "\n",
    "    def __init__(self, clsname, bases, attrdict):\n",
    "        self.test = 'test'\n",
    "        super().__init__(clsname, bases, attrdict)\n",
    "        print('2. Initialize new type, increase test attribute,' + \n",
    "             'from UpperAttrNameMetaClass.__init__')\n",
    "        \n",
    "    def __call__(self, *args, **kwargs):\n",
    "        print('3. Instantiate the new class, ' + \n",
    "             'from UpperAttrNameMetaClass.__call__')\n",
    "        new_obj = self.__new__(self, *args, **kwargs)\n",
    "        new_obj.__init__(*args, **kwargs)\n",
    "        return new_obj\n",
    "    \n",
    "class ObjectNoInitMetaClass(type):\n",
    "    def __call__(cls, *args, **kwargs):\n",
    "        if len(args):\n",
    "            raise TypeError('Must use ketword argument ' + \n",
    "                           ' for key function')\n",
    "        new_obj = cls.__new__(cls)\n",
    "        for k, v in kwargs.items():\n",
    "            setattr(new_obj, k.upper(), v)\n",
    "        return new_obj\n",
    "    \n",
    "class Pig(object, metaclass = UpperAttrNameMetaClass):\n",
    "    size = 'Pig'\n",
    "    \n",
    "    def __new__(cls, *args, **kwargs):\n",
    "        print('4. Call __new__ in  the __call__ of the metaclass,' + \n",
    "             ' from Pig.__new__')\n",
    "        obj = object.__new__(cls)\n",
    "        return obj\n",
    "    \n",
    "    def __init__(self):\n",
    "        print('5. After the new object is instantiated in ' + \n",
    "             'the __call__ of the metaclass, the object is promoted,' +\n",
    "             ' from Pig.__init__')\n",
    "        self.name = 'Mark'\n",
    "        \n",
    "    def talk(self):\n",
    "        print(self.name)\n",
    "        \n",
    "Pig().talk()\n",
    "print(Pig.__dict__)\n",
    "print(Pig.SIZE)\n",
    "\n",
    "class AnyOne(metaclass = ObjectNoInitMetaClass):\n",
    "    pass\n",
    "\n",
    "foo = AnyOne(name = 'John', age = 28)\n",
    "print(foo.NAME, foo.AGE)\n",
    "print(foo.__dict__)"
   ]
  },
  {
   "cell_type": "markdown",
   "metadata": {},
   "source": [
    "#### Singleton class using Metaclass in Python\n",
    "A metaclass is a class used to create a class. Metaclasses are usually sub classes of the type class, which redefines class creation protocol methods in order to customize the class creation call issued at the end of a class statement."
   ]
  },
  {
   "cell_type": "code",
   "execution_count": 9,
   "metadata": {},
   "outputs": [
    {
     "name": "stdout",
     "output_type": "stream",
     "text": [
      "True\n",
      "MySQL 3306\n",
      "ORACLE 3306\n"
     ]
    }
   ],
   "source": [
    "class SingleInstanceMetaClass(type):\n",
    "    def __init__(self, name, bases, dic):\n",
    "        self.__single_instance = None\n",
    "        super().__init__(name, bases, dic)\n",
    "        \n",
    "    def __call__(cls, *args, **kwargs):\n",
    "        if cls.__single_instance:\n",
    "            return cls.__single_instance\n",
    "        single_obj = cls.__new__(cls)\n",
    "        single_obj.__init__(*args, **kwargs)\n",
    "        cls.__single_instance = single_obj\n",
    "        return single_obj\n",
    "    \n",
    "class Setting(metaclass = SingleInstanceMetaClass):\n",
    "    def __init__(self):\n",
    "        self.db = 'MySQL'\n",
    "        self.port = 3306\n",
    "        \n",
    "bar1 = Setting()\n",
    "bar2 = Setting()\n",
    "\n",
    "print(bar1 is bar2)\n",
    "print(bar1.db, bar1.port)\n",
    "bar1.db = 'ORACLE'\n",
    "print(bar2.db, bar2.port)"
   ]
  },
  {
   "cell_type": "markdown",
   "metadata": {},
   "source": [
    "#### What is the difference between @staticmethod and @classmethod?\n",
    "@staticmethod function is nothing more than a function defined inside a class. It is callable without instantiating the class first. It’s definition is immutable via inheritance. @classmethod function also callable without instantiating the class, but its definition follows Sub class, not Parent class, via inheritance."
   ]
  },
  {
   "cell_type": "code",
   "execution_count": 10,
   "metadata": {},
   "outputs": [
    {
     "name": "stdout",
     "output_type": "stream",
     "text": [
      "(<class '__main__.Employee'>,)\n",
      "(<class '__main__.Employee'>, 'test')\n",
      "()\n",
      "('test',)\n"
     ]
    }
   ],
   "source": [
    "class Employee:\n",
    "    @classmethod\n",
    "    def classmthd(*args):\n",
    "        return args\n",
    "    \n",
    "    @staticmethod\n",
    "    def staticmthd(*args):\n",
    "        return args\n",
    "    \n",
    "print(Employee.classmthd())\n",
    "print(Employee.classmthd('test'))\n",
    "\n",
    "print(Employee.staticmthd())\n",
    "print(Employee.staticmthd('test'))"
   ]
  },
  {
   "cell_type": "markdown",
   "metadata": {},
   "source": [
    "#### What are decorators in Python?\n",
    "Python decorators are just plain functions or other callables which take as single argument the function or class to be decorated. As such you can use many ordinary functions as decorators and vice versa."
   ]
  },
  {
   "cell_type": "code",
   "execution_count": 11,
   "metadata": {},
   "outputs": [
    {
     "name": "stdout",
     "output_type": "stream",
     "text": [
      "message param1 param2\n"
     ]
    }
   ],
   "source": [
    "def message(param1, param2):\n",
    "    def wrapper(wrapped):\n",
    "        class WrappedClass(wrapped):\n",
    "            def __init__(self):\n",
    "                self.param1 = param1\n",
    "                self.param2 = param2\n",
    "                super(WrappedClass, self).__init__()\n",
    "                \n",
    "            def get_message(self):\n",
    "                return \"message %s %s\" % (self.param1, self.param2)\n",
    "            \n",
    "        return WrappedClass\n",
    "    return wrapper\n",
    "\n",
    "@message('param1', 'param2')\n",
    "class Pizza(object):\n",
    "    def __init__(self):\n",
    "        pass\n",
    "    \n",
    "pizza_with_message = Pizza()\n",
    "print(pizza_with_message.get_message())"
   ]
  },
  {
   "cell_type": "markdown",
   "metadata": {},
   "source": [
    "#### How to make a chain of function decorators?\n",
    "Decorators have a very explicit syntax, which makes them easier to spot than helper function calls that may be arbitrarily far-removed from the subject functions or classes. Decorators offer some advantages in terms of both code maintenance and consistency."
   ]
  },
  {
   "cell_type": "code",
   "execution_count": 14,
   "metadata": {},
   "outputs": [
    {
     "ename": "AttributeError",
     "evalue": "module 'time' has no attribute 'clock'",
     "output_type": "error",
     "traceback": [
      "\u001b[1;31m---------------------------------------------------------------------------\u001b[0m",
      "\u001b[1;31mAttributeError\u001b[0m                            Traceback (most recent call last)",
      "\u001b[1;32m<ipython-input-14-e6a124097d7e>\u001b[0m in \u001b[0;36m<module>\u001b[1;34m\u001b[0m\n\u001b[0;32m     48\u001b[0m         \u001b[1;32myield\u001b[0m \u001b[0mchr\u001b[0m\u001b[1;33m(\u001b[0m\u001b[0mstr_lst\u001b[0m\u001b[1;33m)\u001b[0m\u001b[1;33m\u001b[0m\u001b[1;33m\u001b[0m\u001b[0m\n\u001b[0;32m     49\u001b[0m \u001b[1;33m\u001b[0m\u001b[0m\n\u001b[1;32m---> 50\u001b[1;33m \u001b[0mprint\u001b[0m\u001b[1;33m(\u001b[0m\u001b[0mlist\u001b[0m\u001b[1;33m(\u001b[0m\u001b[0mletter_range\u001b[0m\u001b[1;33m(\u001b[0m\u001b[1;34m\"a\"\u001b[0m\u001b[1;33m,\u001b[0m \u001b[1;34m\"f\"\u001b[0m\u001b[1;33m)\u001b[0m\u001b[1;33m)\u001b[0m\u001b[1;33m)\u001b[0m\u001b[1;33m\u001b[0m\u001b[1;33m\u001b[0m\u001b[0m\n\u001b[0m\u001b[0;32m     51\u001b[0m \u001b[0mprint\u001b[0m\u001b[1;33m(\u001b[0m\u001b[1;34m\"\\n\"\u001b[0m\u001b[1;33m)\u001b[0m\u001b[1;33m\u001b[0m\u001b[1;33m\u001b[0m\u001b[0m\n\u001b[0;32m     52\u001b[0m \u001b[0mprint\u001b[0m\u001b[1;33m(\u001b[0m\u001b[0mlist\u001b[0m\u001b[1;33m(\u001b[0m\u001b[0mletter_range\u001b[0m\u001b[1;33m(\u001b[0m\u001b[1;34m\"m\"\u001b[0m\u001b[1;33m,\u001b[0m \u001b[1;34m\"z\"\u001b[0m\u001b[1;33m,\u001b[0m \u001b[1;36m2\u001b[0m\u001b[1;33m)\u001b[0m\u001b[1;33m)\u001b[0m\u001b[1;33m)\u001b[0m\u001b[1;33m\u001b[0m\u001b[1;33m\u001b[0m\u001b[0m\n",
      "\u001b[1;32m<ipython-input-14-e6a124097d7e>\u001b[0m in \u001b[0;36mwrapper\u001b[1;34m(*args, **kwargs)\u001b[0m\n\u001b[0;32m     33\u001b[0m     \u001b[1;32mdef\u001b[0m \u001b[0mwrapper\u001b[0m\u001b[1;33m(\u001b[0m\u001b[1;33m*\u001b[0m\u001b[0margs\u001b[0m\u001b[1;33m,\u001b[0m \u001b[1;33m**\u001b[0m\u001b[0mkwargs\u001b[0m\u001b[1;33m)\u001b[0m\u001b[1;33m:\u001b[0m\u001b[1;33m\u001b[0m\u001b[1;33m\u001b[0m\u001b[0m\n\u001b[0;32m     34\u001b[0m         \u001b[0mwrapper\u001b[0m\u001b[1;33m.\u001b[0m\u001b[0mcount\u001b[0m \u001b[1;33m=\u001b[0m \u001b[0mwrapper\u001b[0m\u001b[1;33m.\u001b[0m\u001b[0mcount\u001b[0m \u001b[1;33m+\u001b[0m \u001b[1;36m1\u001b[0m\u001b[1;33m\u001b[0m\u001b[1;33m\u001b[0m\u001b[0m\n\u001b[1;32m---> 35\u001b[1;33m         \u001b[0mres\u001b[0m \u001b[1;33m=\u001b[0m \u001b[0mfunc\u001b[0m\u001b[1;33m(\u001b[0m\u001b[1;33m*\u001b[0m\u001b[0margs\u001b[0m\u001b[1;33m,\u001b[0m \u001b[1;33m**\u001b[0m\u001b[0mkwargs\u001b[0m\u001b[1;33m)\u001b[0m\u001b[1;33m\u001b[0m\u001b[1;33m\u001b[0m\u001b[0m\n\u001b[0m\u001b[0;32m     36\u001b[0m         \u001b[0mprint\u001b[0m\u001b[1;33m(\u001b[0m\u001b[1;34m\"{0} has been used: {1}x\"\u001b[0m\u001b[1;33m.\u001b[0m\u001b[0mformat\u001b[0m\u001b[1;33m(\u001b[0m\u001b[0mfunc\u001b[0m\u001b[1;33m.\u001b[0m\u001b[0m__name__\u001b[0m\u001b[1;33m,\u001b[0m \u001b[0mwrapper\u001b[0m\u001b[1;33m.\u001b[0m\u001b[0mcount\u001b[0m\u001b[1;33m)\u001b[0m\u001b[1;33m)\u001b[0m\u001b[1;33m\u001b[0m\u001b[1;33m\u001b[0m\u001b[0m\n\u001b[0;32m     37\u001b[0m         \u001b[1;32mreturn\u001b[0m \u001b[0mres\u001b[0m\u001b[1;33m\u001b[0m\u001b[1;33m\u001b[0m\u001b[0m\n",
      "\u001b[1;32m<ipython-input-14-e6a124097d7e>\u001b[0m in \u001b[0;36mwrapper\u001b[1;34m(*args, **kwargs)\u001b[0m\n\u001b[0;32m      7\u001b[0m \u001b[1;33m\u001b[0m\u001b[0m\n\u001b[0;32m      8\u001b[0m     \u001b[1;32mdef\u001b[0m \u001b[0mwrapper\u001b[0m\u001b[1;33m(\u001b[0m\u001b[1;33m*\u001b[0m\u001b[0margs\u001b[0m\u001b[1;33m,\u001b[0m \u001b[1;33m**\u001b[0m\u001b[0mkwargs\u001b[0m\u001b[1;33m)\u001b[0m\u001b[1;33m:\u001b[0m\u001b[1;33m\u001b[0m\u001b[1;33m\u001b[0m\u001b[0m\n\u001b[1;32m----> 9\u001b[1;33m         \u001b[0mt\u001b[0m \u001b[1;33m=\u001b[0m \u001b[0mtime\u001b[0m\u001b[1;33m.\u001b[0m\u001b[0mclock\u001b[0m\u001b[1;33m(\u001b[0m\u001b[1;33m)\u001b[0m\u001b[1;33m\u001b[0m\u001b[1;33m\u001b[0m\u001b[0m\n\u001b[0m\u001b[0;32m     10\u001b[0m         \u001b[0mres\u001b[0m \u001b[1;33m=\u001b[0m \u001b[0mfunc\u001b[0m\u001b[1;33m(\u001b[0m\u001b[1;33m*\u001b[0m\u001b[0margs\u001b[0m\u001b[1;33m,\u001b[0m \u001b[1;33m**\u001b[0m\u001b[0mkwargs\u001b[0m\u001b[1;33m)\u001b[0m\u001b[1;33m\u001b[0m\u001b[1;33m\u001b[0m\u001b[0m\n\u001b[0;32m     11\u001b[0m         \u001b[0mprint\u001b[0m\u001b[1;33m(\u001b[0m\u001b[1;34m\"{0} {1}\"\u001b[0m\u001b[1;33m.\u001b[0m\u001b[0mformat\u001b[0m\u001b[1;33m(\u001b[0m\u001b[0mfunc\u001b[0m\u001b[1;33m.\u001b[0m\u001b[0m__name__\u001b[0m\u001b[1;33m,\u001b[0m \u001b[0mtime\u001b[0m\u001b[1;33m.\u001b[0m\u001b[0mclock\u001b[0m\u001b[1;33m(\u001b[0m\u001b[1;33m)\u001b[0m\u001b[1;33m-\u001b[0m\u001b[0mt\u001b[0m\u001b[1;33m)\u001b[0m\u001b[1;33m)\u001b[0m\u001b[1;33m\u001b[0m\u001b[1;33m\u001b[0m\u001b[0m\n",
      "\u001b[1;31mAttributeError\u001b[0m: module 'time' has no attribute 'clock'"
     ]
    }
   ],
   "source": [
    "def benchmark(func):\n",
    "    \"\"\"\n",
    "    A decorator that prints the time a function takes\n",
    "    to execute.\n",
    "    \"\"\"\n",
    "    import time\n",
    "    \n",
    "    def wrapper(*args, **kwargs):\n",
    "        t = time.clock()\n",
    "        res = func(*args, **kwargs)\n",
    "        print(\"{0} {1}\".format(func.__name__, time.clock()-t))\n",
    "        return res\n",
    "    return wrapper\n",
    "\n",
    "def logging(func):\n",
    "    \"\"\"\n",
    "    A decorator that logs the activity of the script.\n",
    "    (it actually just prints it, but it could be logging!)\n",
    "    \"\"\"\n",
    "    \n",
    "    def wrapper(*args, **kwargs):\n",
    "        res = func(*arg, **kwargs)\n",
    "        print(\"{0} {1} {2}\".format(func.__name__, args, kwargs))\n",
    "        return res\n",
    "    return wrapper\n",
    "\n",
    "def counter(func):\n",
    "    \"\"\"\n",
    "    A decorator that counts and prints the number of times a \n",
    "    function has been executed\n",
    "    \"\"\"\n",
    "    \n",
    "    def wrapper(*args, **kwargs):\n",
    "        wrapper.count = wrapper.count + 1\n",
    "        res = func(*args, **kwargs)\n",
    "        print(\"{0} has been used: {1}x\".format(func.__name__, wrapper.count))\n",
    "        return res\n",
    "    wrapper.count = 0\n",
    "    return wrapper\n",
    "\n",
    "@counter\n",
    "@benchmark\n",
    "@logging\n",
    "def letter_range(start, stop, step=1):\n",
    "    start = ord(start.lower())\n",
    "    stop = ord(stop.lower())\n",
    "    for str_lst in range(start, stop, step):\n",
    "        yield chr(str_lst)\n",
    "        \n",
    "print(list(letter_range(\"a\", \"f\")))\n",
    "print(\"\\n\")\n",
    "print(list(letter_range(\"m\", \"z\", 2)))"
   ]
  },
  {
   "cell_type": "markdown",
   "metadata": {},
   "source": [
    "#### Decorator for both class methods and functions in Python\n",
    "Function decorators can also be used to manage function objects and Class decorators can also be used to manage class objects directly."
   ]
  },
  {
   "cell_type": "code",
   "execution_count": 16,
   "metadata": {},
   "outputs": [
    {
     "name": "stdout",
     "output_type": "stream",
     "text": [
      "Decorator: args=(<__main__.Class object at 0x000001D324956BB0>, 25000)\n",
      "Parameter is 25000\n",
      "Decorator: args=('Australia', 'Germany', 'London')\n",
      "Australia Germany London\n"
     ]
    }
   ],
   "source": [
    "def deco(func):\n",
    "    def inner(*args):\n",
    "        print('Decorator: args={}'.format(args))\n",
    "        func(*args)\n",
    "    return inner\n",
    "\n",
    "class Class:\n",
    "    @deco\n",
    "    def class_method(self, param):\n",
    "        print('Parameter is {}'.format(param))\n",
    "        \n",
    "@deco\n",
    "def static_function(a, b, c):\n",
    "    print('{} {} {}'.format(a, b, c))\n",
    "    \n",
    "Class().class_method(25000)\n",
    "static_function('Australia', 'Germany', 'London')"
   ]
  },
  {
   "cell_type": "markdown",
   "metadata": {},
   "source": [
    "#### Create decorators with parameters in Python\n",
    "Both function and class decorators can also seem to take arguments, although really these arguments are passed to a callable that in effect returns the decorator, which in turn returns a callable."
   ]
  },
  {
   "cell_type": "code",
   "execution_count": 17,
   "metadata": {},
   "outputs": [
    {
     "name": "stdout",
     "output_type": "stream",
     "text": [
      "Skills Before Joining:  Php, Java, Python, Go\n",
      "Employee John Doe 28\n",
      "Skills After Joining:  Php, Java, Python, Go\n"
     ]
    }
   ],
   "source": [
    "class Profile(object):\n",
    "    def __init__(self, flag):\n",
    "        self.flag = flag\n",
    "        \n",
    "    def __call__(self, original_func):\n",
    "        decorator_self = self\n",
    "        \n",
    "        def wrappee(*args, **kwargs):\n",
    "            print('Skills Before Joining: ', decorator_self.flag)\n",
    "            original_func(*args, **kwargs)\n",
    "            print(\"Skills After Joining: \", decorator_self.flag)\n",
    "        return wrappee\n",
    "    \n",
    "@Profile('Php, Java, Python, Go')\n",
    "def employee(name, age):\n",
    "    print(\"Employee\", name, age)\n",
    "    \n",
    "employee('John Doe', 28)"
   ]
  },
  {
   "cell_type": "code",
   "execution_count": null,
   "metadata": {},
   "outputs": [],
   "source": []
  }
 ],
 "metadata": {
  "kernelspec": {
   "display_name": "Python 3",
   "language": "python",
   "name": "python3"
  },
  "language_info": {
   "codemirror_mode": {
    "name": "ipython",
    "version": 3
   },
   "file_extension": ".py",
   "mimetype": "text/x-python",
   "name": "python",
   "nbconvert_exporter": "python",
   "pygments_lexer": "ipython3",
   "version": "3.8.5"
  }
 },
 "nbformat": 4,
 "nbformat_minor": 4
}
