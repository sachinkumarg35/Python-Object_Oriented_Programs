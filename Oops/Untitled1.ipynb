{
 "cells": [
  {
   "cell_type": "markdown",
   "metadata": {},
   "source": [
    "Table of Contents\n",
    "\n",
    "1. What is Object Oriented Programming?\n",
    "\n",
    "2. Do Data Scientists Use Object Oriented Programming?\n",
    "\n",
    "3. Basics : OOP in Python\n",
    "\n",
    "a. Object and Class\n",
    "\n",
    "b. Constructor\n",
    "\n",
    "c. Variables\n",
    "\n",
    "4. Methods\n",
    "\n",
    "5. Inheritance\n",
    "\n",
    "6. Polymorphism\n",
    "\n",
    "a. Method Overriding\n",
    "\n",
    "b. Method Overloading\n",
    "\n",
    "7. What is __str__?\n",
    "\n",
    "8. Data Encapsulation\n",
    "\n",
    "9. Getters and Setters\n",
    "\n",
    "10. How to import class\n",
    "\n",
    "11. What is __name__ == \"__main__\"?\n",
    "\n",
    "12. Exercise"
   ]
  },
  {
   "cell_type": "markdown",
   "metadata": {},
   "source": [
    "#### What is Object Oriented Programming?\n",
    "In object-oriented programming (OOP), you have the flexibility to represent real-world objects like car, animal, person, ATM etc. in your code. In simple words, an object is something that possess some characteristics and can perform certain functions. For example, car is an object and can perform functions like start, stop, drive and brake. These are the function of a car. And the characteristics are color of car, mileage, maximum speed, model year etc.\n",
    "\n",
    "In the above example, car is an object. Functions are called methods in OOP world. Characteristics are attributes (properties). Technically attributes are variables or values related to the state of the object whereas methods are functions which have an effect on the attributes of the object."
   ]
  },
  {
   "cell_type": "markdown",
   "metadata": {},
   "source": [
    "In Python, everything is an object. Strings, Integers, Float, lists, dictionaries, functions, modules etc are all objects."
   ]
  },
  {
   "cell_type": "markdown",
   "metadata": {},
   "source": [
    "#### Do Data Scientists Use Object Oriented Programming?\n",
    "It's one of the most common question data scientists have before learning OOP. When it comes to data manipulation and machine learning using Python, it is generally advised to study pandas, numpy, matplotlib, scikit-learn libraries. These libraries were written by experienced python developers to automate or simplify most of tasks related to data science. All these libraries depend on OOP and its concepts. For example, you are building a regression model using scikit-learn library. You first have to declare your model as an object and then you use a fit method. Without knowing fundamentals of OOP, you would not be able to understand why you write the code in this manner.\n",
    "\n",
    "In python, there are mainly 3 programming styles which are Object-Oriented Programming, Functional Programming and Procedural Programming. In simple words, there are 3 different ways to solve the problem in Python. Functional programming is most popular among data scientists as it has performance advantage. OOP is useful when you work with large codebases and code maintainability is very important."
   ]
  },
  {
   "cell_type": "markdown",
   "metadata": {},
   "source": [
    "##### Conclusion : \n",
    "It's good to learn fundamentals of OOP so that you understand what's going behind the libraries you use. If you aim to be a great python developer and want to build Python library, you need to learn OOP (Must!). At the same time there are many data scientists who are unaware of OOP concepts and still excel in their job."
   ]
  },
  {
   "cell_type": "markdown",
   "metadata": {},
   "source": [
    "#### Basics : OOP in Python\n",
    "In this section, we will see concepts related to OOP in Python in detail.\n",
    "\n",
    "#### Object and Class\n",
    "Class is a architecture of the object. It is a proper description of the attributes and methods of a class. For example, design of a car of same type is a class. You can create many objects from a class. Like you can make many cars of the same type from a design of car."
   ]
  },
  {
   "cell_type": "markdown",
   "metadata": {},
   "source": [
    "There are many real-world examples of classes as explained below -\n",
    "\n",
    "1. Recipe of Omelette is a class. Omelette is an object.\n",
    "\n",
    "2. Bank Account Holder is a class. Attributes are First Name, Last Name, Date of Birth, Profession, Address etc. Methods can be \"Change of address\", \"Change of Profession\", \" Change of last name\" etc. \"Change of last name\" is generally applicable to women when they change their last name after marriage\n",
    "\n",
    "3. Dog is a class. Attributes are Breed, Number of legs, Size, Age, Color etc. Methods can be Eat, Sleep, Sit, Bark, Run etc.\n",
    "\n",
    "In python, we can create a class using the keyword class. Method of class can be defined by keyword def. It is similar to a normal function but it is defined within a class and is a function of class. The first parameter in the definition of a method is always self and method is called without the parameter self."
   ]
  },
  {
   "cell_type": "markdown",
   "metadata": {},
   "source": [
    "#### Example 1 : Create Car Class\n",
    "class : car\n",
    "    \n",
    "attributes : year, mpg and speed\n",
    "    \n",
    "methods : accelerate and brake\n",
    "    \n",
    "object : car1"
   ]
  },
  {
   "cell_type": "code",
   "execution_count": 2,
   "metadata": {},
   "outputs": [],
   "source": [
    "class car:\n",
    "    \n",
    "    #Attributes\n",
    "    year = 2016 #car model's year\n",
    "    mpg = 20 #mileage\n",
    "    speed = 100 #current speed\n",
    "    \n",
    "    #Methods\n",
    "    def accelerate(self):\n",
    "        return car.speed + 20\n",
    "    \n",
    "    def brake(self):\n",
    "        return car.speed - 50"
   ]
  },
  {
   "cell_type": "code",
   "execution_count": 6,
   "metadata": {},
   "outputs": [
    {
     "data": {
      "text/plain": [
       "120"
      ]
     },
     "execution_count": 6,
     "metadata": {},
     "output_type": "execute_result"
    }
   ],
   "source": [
    "car1 = car()\n",
    "\n",
    "car1.accelerate()"
   ]
  },
  {
   "cell_type": "code",
   "execution_count": 7,
   "metadata": {},
   "outputs": [
    {
     "data": {
      "text/plain": [
       "50"
      ]
     },
     "execution_count": 7,
     "metadata": {},
     "output_type": "execute_result"
    }
   ],
   "source": [
    "car1.brake()"
   ]
  },
  {
   "cell_type": "code",
   "execution_count": 9,
   "metadata": {},
   "outputs": [
    {
     "data": {
      "text/plain": [
       "2016"
      ]
     },
     "execution_count": 9,
     "metadata": {},
     "output_type": "execute_result"
    }
   ],
   "source": [
    "car1.year"
   ]
  },
  {
   "cell_type": "code",
   "execution_count": 10,
   "metadata": {},
   "outputs": [
    {
     "data": {
      "text/plain": [
       "20"
      ]
     },
     "execution_count": 10,
     "metadata": {},
     "output_type": "execute_result"
    }
   ],
   "source": [
    "car1.mpg"
   ]
  },
  {
   "cell_type": "code",
   "execution_count": 11,
   "metadata": {},
   "outputs": [
    {
     "data": {
      "text/plain": [
       "100"
      ]
     },
     "execution_count": 11,
     "metadata": {},
     "output_type": "execute_result"
    }
   ],
   "source": [
    "car1.speed"
   ]
  },
  {
   "cell_type": "markdown",
   "metadata": {},
   "source": [
    "To submit methods, we need to use rounded brackets."
   ]
  },
  {
   "cell_type": "markdown",
   "metadata": {},
   "source": [
    "#### Example 2 : Create Company Class\n",
    "In the example below, we are creating a class called company. Here attributes are name, turnover, revenue and number of employees working in the company. Method is revenue generated per employee (let's call it productivity for demonstration purpose)."
   ]
  },
  {
   "cell_type": "code",
   "execution_count": 12,
   "metadata": {},
   "outputs": [],
   "source": [
    "#Create class Company\n",
    "class Company:\n",
    "    \n",
    "    #Attributes\n",
    "    name = \"XYZ Bank\"\n",
    "    turnover = 5000\n",
    "    revenue = 1000\n",
    "    no_of_employees = 100\n",
    "    \n",
    "    #method\n",
    "    def productivity(self):\n",
    "        return Company.revenue/Company.no_of_employees"
   ]
  },
  {
   "cell_type": "code",
   "execution_count": 13,
   "metadata": {},
   "outputs": [
    {
     "data": {
      "text/plain": [
       "'XYZ Bank'"
      ]
     },
     "execution_count": 13,
     "metadata": {},
     "output_type": "execute_result"
    }
   ],
   "source": [
    "Company.name"
   ]
  },
  {
   "cell_type": "code",
   "execution_count": 14,
   "metadata": {},
   "outputs": [
    {
     "data": {
      "text/plain": [
       "5000"
      ]
     },
     "execution_count": 14,
     "metadata": {},
     "output_type": "execute_result"
    }
   ],
   "source": [
    "Company.turnover"
   ]
  },
  {
   "cell_type": "code",
   "execution_count": 15,
   "metadata": {},
   "outputs": [
    {
     "data": {
      "text/plain": [
       "100"
      ]
     },
     "execution_count": 15,
     "metadata": {},
     "output_type": "execute_result"
    }
   ],
   "source": [
    "Company.no_of_employees"
   ]
  },
  {
   "cell_type": "code",
   "execution_count": 16,
   "metadata": {},
   "outputs": [
    {
     "data": {
      "text/plain": [
       "10.0"
      ]
     },
     "execution_count": 16,
     "metadata": {},
     "output_type": "execute_result"
    }
   ],
   "source": [
    "Company().productivity()"
   ]
  },
  {
   "cell_type": "markdown",
   "metadata": {},
   "source": [
    "#### Constructor\n",
    "Constructor is a special method. You can think of as a function which initializes or activates the attributes or properties of the class for a object. Use keyword __init__ to create a method for constructor. In the above section we discussed an example of car as an object. You can think of constructor as entire sequence of actions required so that the factory constructs a car object out of the class design pattern. self represents that object which inherits those properties."
   ]
  },
  {
   "cell_type": "markdown",
   "metadata": {},
   "source": [
    "Objects are instances of a class. Words 'instance' and 'object' are used interchangeably. The process of creating an object of a class is called instantiation."
   ]
  },
  {
   "cell_type": "markdown",
   "metadata": {},
   "source": [
    "In the following example, we are asking user to input values. __init__ is called when ever an object of the class is constructed."
   ]
  },
  {
   "cell_type": "code",
   "execution_count": 18,
   "metadata": {},
   "outputs": [
    {
     "name": "stdout",
     "output_type": "stream",
     "text": [
      "Bhalla\n"
     ]
    }
   ],
   "source": [
    "class person:\n",
    "    def __init__(self, firstname, lastname):\n",
    "        self.first = firstname\n",
    "        self.last = lastname\n",
    "        \n",
    "myname = person('Deepanshu', 'Bhalla')\n",
    "print(myname.last)"
   ]
  },
  {
   "cell_type": "markdown",
   "metadata": {},
   "source": [
    "Let's take another example. Here, the program below returns output based on the method defined in class"
   ]
  },
  {
   "cell_type": "code",
   "execution_count": 1,
   "metadata": {},
   "outputs": [
    {
     "data": {
      "text/plain": [
       "10.0"
      ]
     },
     "execution_count": 1,
     "metadata": {},
     "output_type": "execute_result"
    }
   ],
   "source": [
    "class MyCompany:\n",
    "    \n",
    "    #Methods\n",
    "    def __init__(self, compname, revenue, employeesize):\n",
    "        self.name = compname\n",
    "        self.revenue = revenue\n",
    "        self.no_of_employees = employeesize\n",
    "        \n",
    "    def productivity(self):\n",
    "        return self.revenue/self.no_of_employees\n",
    "    \n",
    "MyCompany('XYZ Bank', 1000, 100).productivity()"
   ]
  },
  {
   "cell_type": "code",
   "execution_count": 2,
   "metadata": {},
   "outputs": [
    {
     "data": {
      "text/plain": [
       "25.0"
      ]
     },
     "execution_count": 2,
     "metadata": {},
     "output_type": "execute_result"
    }
   ],
   "source": [
    "MyCompany('ABC Bank', 5000, 200).productivity()"
   ]
  },
  {
   "cell_type": "markdown",
   "metadata": {},
   "source": [
    "#### Alternatively way of calling the class method"
   ]
  },
  {
   "cell_type": "code",
   "execution_count": 3,
   "metadata": {},
   "outputs": [
    {
     "data": {
      "text/plain": [
       "25.0"
      ]
     },
     "execution_count": 3,
     "metadata": {},
     "output_type": "execute_result"
    }
   ],
   "source": [
    "Bank = MyCompany('ABC Bank', 5000, 200)\n",
    "MyCompany.productivity(Bank)"
   ]
  },
  {
   "cell_type": "markdown",
   "metadata": {},
   "source": [
    "#### Variables\n",
    "Attributes of a class are also referred to as variables. There are two kind of variables - one which is declared inside a class but outside of methods of class and the other one which is declared inside __init__.\n",
    "\n",
    "When you use __int__ method, you can access variables only after you create a object. These variables are called Instance Variables or local variables. One which is defined outside of methods are called Class Variables or global variables. You can access these variables anywhere in the class. See the difference in the example below."
   ]
  },
  {
   "cell_type": "code",
   "execution_count": 6,
   "metadata": {},
   "outputs": [
    {
     "data": {
      "text/plain": [
       "0.1"
      ]
     },
     "execution_count": 6,
     "metadata": {},
     "output_type": "execute_result"
    }
   ],
   "source": [
    "class MyCompany:\n",
    "    #class variable\n",
    "    growth = 0.1\n",
    "    \n",
    "    def __init__(self, compname, revenue, employeesize):\n",
    "        #Instance variables\n",
    "        self.name = compname\n",
    "        self.revenue = revenue\n",
    "        self.no_of_employees = employeesize\n",
    "        \n",
    "MyCompany.growth"
   ]
  },
  {
   "cell_type": "markdown",
   "metadata": {},
   "source": [
    "#### How to get revenue variable from MyCompany class?"
   ]
  },
  {
   "cell_type": "code",
   "execution_count": 7,
   "metadata": {},
   "outputs": [
    {
     "ename": "AttributeError",
     "evalue": "type object 'MyCompany' has no attribute 'revenue'",
     "output_type": "error",
     "traceback": [
      "\u001b[1;31m---------------------------------------------------------------------------\u001b[0m",
      "\u001b[1;31mAttributeError\u001b[0m                            Traceback (most recent call last)",
      "\u001b[1;32m<ipython-input-7-57b001288809>\u001b[0m in \u001b[0;36m<module>\u001b[1;34m\u001b[0m\n\u001b[0;32m      1\u001b[0m \u001b[1;31m#Wrong way\u001b[0m\u001b[1;33m\u001b[0m\u001b[1;33m\u001b[0m\u001b[1;33m\u001b[0m\u001b[0m\n\u001b[1;32m----> 2\u001b[1;33m \u001b[0mMyCompany\u001b[0m\u001b[1;33m.\u001b[0m\u001b[0mrevenue\u001b[0m\u001b[1;33m\u001b[0m\u001b[1;33m\u001b[0m\u001b[0m\n\u001b[0m",
      "\u001b[1;31mAttributeError\u001b[0m: type object 'MyCompany' has no attribute 'revenue'"
     ]
    }
   ],
   "source": [
    "#Wrong way\n",
    "MyCompany.revenue"
   ]
  },
  {
   "cell_type": "code",
   "execution_count": 8,
   "metadata": {},
   "outputs": [
    {
     "data": {
      "text/plain": [
       "50000"
      ]
     },
     "execution_count": 8,
     "metadata": {},
     "output_type": "execute_result"
    }
   ],
   "source": [
    "#Correct way\n",
    "Bank = MyCompany('DBA Bank', 50000, 1000)\n",
    "Bank.revenue"
   ]
  },
  {
   "cell_type": "markdown",
   "metadata": {},
   "source": [
    "MyCompany.revenue returns error as it cannot be accessed because object has not been created."
   ]
  },
  {
   "cell_type": "markdown",
   "metadata": {},
   "source": [
    "#### Methods\n",
    "In python, there are three types of methods which are Instance, Class and Static.\n",
    "\n",
    "1. Instance takes self as the first argument. They are also called Object or regular method. It's the same method which we have learnt so far in previous sections.\n",
    "\n",
    "2. Class takes cls as the first argument. cls refers to class. To access a class variable within a method, we use the @classmethod decorator, and pass the class to the method\n",
    "\n",
    "3. Staticdoesn't take anything as the first argument. It has limited uses which are explained in the latter part of this article."
   ]
  },
  {
   "cell_type": "markdown",
   "metadata": {},
   "source": [
    "#### How Instance and class methods are different?\n",
    "Instance method can access properties unique to a object or instance. Whereas Class method is used when you want to access a property of a class, and not the property of a specific instance of that class. The other difference in terms of writing style is that Instance method take self as a first parameter whereas Class method takes cls as a first parameter.\n",
    "In the example below, we are creating class for cab. Both Cab and taxi means the same thing. Attributes or properties of cab is driver name, number of kilometers run by a cab, Pick-up and drop location, cab fare and number of passengers boarded cab.\n",
    "\n",
    "Here we are creating 3 methods : rateperkm, noofcabs, avgnoofpassengers. First one is instance method and other two are class methods.\n",
    "\n",
    "1. rateperkm returns price of cab fare per km which is calculated by dividing total bill by no. of kms cab traveled.\n",
    "2. noofcabs returns number of cabs running. Think about cab agency which owns many cabs and wants to know how many cabs are busy\n",
    "3. avgnoofpassengers returns average number of passengers traveling in a car. To calculate average, it takes into account all the cabs running and number of passengers in each cab."
   ]
  },
  {
   "cell_type": "code",
   "execution_count": 10,
   "metadata": {},
   "outputs": [
    {
     "data": {
      "text/plain": [
       "'Ramesh'"
      ]
     },
     "execution_count": 10,
     "metadata": {},
     "output_type": "execute_result"
    }
   ],
   "source": [
    "class Cab:\n",
    "    \n",
    "    #Initialise variables for first iteration.\n",
    "    numberofcabs = 0\n",
    "    numpassengers = 0\n",
    "    \n",
    "    def __init__(self, driver, kms, places, pay, passengers):\n",
    "        self.driver = driver\n",
    "        self.running = kms\n",
    "        self.places = places\n",
    "        self.bill = pay\n",
    "        Cab.numberofcabs = Cab.numberofcabs + 1\n",
    "        Cab.numpassengers = Cab.numpassengers + passengers\n",
    "        \n",
    "    #Return price of cab fare per km\n",
    "    def rateperkm(self):\n",
    "        return self.bill/self.running\n",
    "    \n",
    "    #Return number of cabs running\n",
    "    @classmethod\n",
    "    def noofcabs(cls):\n",
    "        return cls.numberofcabs\n",
    "    \n",
    "    #Returns average number of passengers travelling in a cab.\n",
    "    @classmethod\n",
    "    def avgnoofpassengers(cls):\n",
    "        return int(cls.numpassengers/cls.numberofcabs)\n",
    "    \n",
    "firstcab = Cab(\"Ramesh\", 80, ['Delhi', 'Noida'], 2200, 3)\n",
    "secondcab = Cab(\"Suresh\", 60, ['Gurgaon', 'Noida'], 1500, 1)\n",
    "thirdcab = Cab(\"Dave\", 20, ['Gurgaon', 'Noida'], 680, 2)\n",
    "\n",
    "firstcab.driver"
   ]
  },
  {
   "cell_type": "code",
   "execution_count": 11,
   "metadata": {},
   "outputs": [
    {
     "data": {
      "text/plain": [
       "'Suresh'"
      ]
     },
     "execution_count": 11,
     "metadata": {},
     "output_type": "execute_result"
    }
   ],
   "source": [
    "secondcab.driver"
   ]
  },
  {
   "cell_type": "code",
   "execution_count": 12,
   "metadata": {},
   "outputs": [
    {
     "data": {
      "text/plain": [
       "'Dave'"
      ]
     },
     "execution_count": 12,
     "metadata": {},
     "output_type": "execute_result"
    }
   ],
   "source": [
    "thirdcab.driver"
   ]
  },
  {
   "cell_type": "code",
   "execution_count": 13,
   "metadata": {},
   "outputs": [
    {
     "data": {
      "text/plain": [
       "27.5"
      ]
     },
     "execution_count": 13,
     "metadata": {},
     "output_type": "execute_result"
    }
   ],
   "source": [
    "firstcab.rateperkm()"
   ]
  },
  {
   "cell_type": "code",
   "execution_count": 14,
   "metadata": {},
   "outputs": [
    {
     "data": {
      "text/plain": [
       "25.0"
      ]
     },
     "execution_count": 14,
     "metadata": {},
     "output_type": "execute_result"
    }
   ],
   "source": [
    "secondcab.rateperkm()"
   ]
  },
  {
   "cell_type": "code",
   "execution_count": 15,
   "metadata": {},
   "outputs": [
    {
     "data": {
      "text/plain": [
       "34.0"
      ]
     },
     "execution_count": 15,
     "metadata": {},
     "output_type": "execute_result"
    }
   ],
   "source": [
    "thirdcab.rateperkm()"
   ]
  },
  {
   "cell_type": "code",
   "execution_count": 16,
   "metadata": {},
   "outputs": [
    {
     "data": {
      "text/plain": [
       "3"
      ]
     },
     "execution_count": 16,
     "metadata": {},
     "output_type": "execute_result"
    }
   ],
   "source": [
    "Cab.noofcabs()"
   ]
  },
  {
   "cell_type": "code",
   "execution_count": 17,
   "metadata": {},
   "outputs": [
    {
     "data": {
      "text/plain": [
       "2"
      ]
     },
     "execution_count": 17,
     "metadata": {},
     "output_type": "execute_result"
    }
   ],
   "source": [
    "Cab.avgnoofpassengers()"
   ]
  },
  {
   "cell_type": "markdown",
   "metadata": {},
   "source": [
    "Cab.avgnoofpassengers() returns 2 which is calculated by (3+1+2)/3"
   ]
  },
  {
   "cell_type": "markdown",
   "metadata": {},
   "source": [
    "#### Static Methods\n",
    "Static method is the least popular method among all the three methods. Unlike instance and class methods, static method does not take a special keyword (self, cls) as a first parameter. It has a limited use because Neither you can access to the properties of an instance (object) of a class NOR you can access to the attributes of the class. The only usage is it can be called without an object. It is mainly useful for creating helper or utility functions like validation of driver name (driver name must be less than 32 characters) or bill amount must be more than zero (can't be negative or zero). See the program below for the same task."
   ]
  },
  {
   "cell_type": "code",
   "execution_count": 18,
   "metadata": {},
   "outputs": [
    {
     "data": {
      "text/plain": [
       "False"
      ]
     },
     "execution_count": 18,
     "metadata": {},
     "output_type": "execute_result"
    }
   ],
   "source": [
    "class Cab:\n",
    "    \n",
    "    @staticmethod\n",
    "    def billvalidation(pay):\n",
    "        return int(pay)>0\n",
    "    \n",
    "Cab.billvalidation(0.2)"
   ]
  },
  {
   "cell_type": "markdown",
   "metadata": {},
   "source": [
    "#### Inheritance\n",
    "Inheritance makes use of code for Children class that has been already written for Parent class. For example, some attributes of vehicle class is same as car, bus and truck class. Driver Name, Number of Wheels etc. attributes are same in all the classes. Vehicle is a parent class and Car, bus and truck are children classes. In OOO, it means a class inherits attributes and behavior methods from its parent class.\n",
    "\n",
    "Create a parent class Vehicle and using its attributes for child class Vehicle. In the program below, we don't need to specify attributes of class cab. It inherits from vehicle."
   ]
  },
  {
   "cell_type": "code",
   "execution_count": 19,
   "metadata": {},
   "outputs": [
    {
     "data": {
      "text/plain": [
       "'Sandy'"
      ]
     },
     "execution_count": 19,
     "metadata": {},
     "output_type": "execute_result"
    }
   ],
   "source": [
    "class Vehicle:\n",
    "    def __init__(self, driver, wheels, seats):\n",
    "        self.driver = driver\n",
    "        self.noofwheels = wheels\n",
    "        self.noofseats = seats\n",
    "        \n",
    "class Cab(Vehicle):\n",
    "    pass\n",
    "\n",
    "cab_1 = Cab('Sandy', 4, 2)\n",
    "cab_1.driver"
   ]
  },
  {
   "cell_type": "markdown",
   "metadata": {},
   "source": [
    "How to change class variables of subclass Vehicle."
   ]
  },
  {
   "cell_type": "code",
   "execution_count": 21,
   "metadata": {},
   "outputs": [
    {
     "data": {
      "text/plain": [
       "50"
      ]
     },
     "execution_count": 21,
     "metadata": {},
     "output_type": "execute_result"
    }
   ],
   "source": [
    "class Vehicle:\n",
    "    minimumrate = 50\n",
    "    def __init__(self, driver, wheels, seats):\n",
    "        self.driver = driver\n",
    "        self.noofwheels = wheels\n",
    "        self.noofseats = seats\n",
    "        \n",
    "class Cab(Vehicle):\n",
    "    minimumrate = 75\n",
    "    \n",
    "Vehicle.minimumrate"
   ]
  },
  {
   "cell_type": "code",
   "execution_count": 22,
   "metadata": {},
   "outputs": [
    {
     "data": {
      "text/plain": [
       "75"
      ]
     },
     "execution_count": 22,
     "metadata": {},
     "output_type": "execute_result"
    }
   ],
   "source": [
    "Cab.minimumrate"
   ]
  },
  {
   "cell_type": "markdown",
   "metadata": {},
   "source": [
    "How to have child class with more parameters than our parent class\n",
    "\n",
    "In this example, we have two classes Cab and Bus which have many attributes which are similar but there are a few which are unique to class. To solve this, we have created a parent class named Vehicle which contains common attributes and method.\n",
    "inheritance python"
   ]
  },
  {
   "cell_type": "code",
   "execution_count": 25,
   "metadata": {},
   "outputs": [
    {
     "data": {
      "text/plain": [
       "8.0"
      ]
     },
     "execution_count": 25,
     "metadata": {},
     "output_type": "execute_result"
    }
   ],
   "source": [
    "class Vehicle:\n",
    "    minimumrate = 50\n",
    "    def __init__(self, driver, wheels, seats, kms, bill):\n",
    "        self.driver = driver\n",
    "        self.noofwheels = wheels\n",
    "        self.noofseats = seats\n",
    "        self.running = kms\n",
    "        self.bill = bill\n",
    "        \n",
    "    def rateperkm(self):\n",
    "        return self.bill/self.running\n",
    "    \n",
    "class Cab(Vehicle):\n",
    "    minimumrate = 75\n",
    "    def __init__(self, driver, wheels, seats, kms, bill, cabtype):\n",
    "        Vehicle.__init__(self, driver, wheels, seats, kms, bill)\n",
    "        self.category = cabtype\n",
    "        \n",
    "class Bus(Vehicle):\n",
    "    minimumrate = 75\n",
    "    def __init__(self, driver, wheels, seats, kms, bill, color):\n",
    "        Vehicle.__init__(self, driver, wheels, seats, kms, bill)\n",
    "        self.color = color\n",
    "        \n",
    "cab_1 = Cab('Prateek', 4, 3, 50, 700, 'SUV')\n",
    "cab_1.category\n",
    "cab_1.rateperkm()\n",
    "\n",
    "bus_1 = Bus('Dave', 4, 10, 50, 400, 'green')\n",
    "bus_1.color\n",
    "bus_1.rateperkm()"
   ]
  },
  {
   "cell_type": "markdown",
   "metadata": {},
   "source": [
    "We can replace this command Vehicle.__init__(self,driver,wheels,seats,kms,bill) with super().__init__(driver,wheels,seats,kms,bill).\n",
    "super() is used to refer the parent attributes and methods."
   ]
  },
  {
   "cell_type": "markdown",
   "metadata": {},
   "source": [
    "#### Polymorphism\n",
    "Polymorphism means the ability to take various forms. It is an important concept when you deal with child and parent class. Polymorphism in python is applied through method overriding and method overloading.\n",
    "\n",
    "#### Method Overriding\n",
    "Method overriding allows us to have a method in the child class with the same name as in the parent class but the definition of the child class method is different from parent class method."
   ]
  },
  {
   "cell_type": "code",
   "execution_count": 26,
   "metadata": {},
   "outputs": [
    {
     "name": "stdout",
     "output_type": "stream",
     "text": [
      "Parent class method.\n",
      "Child Cab class method.\n",
      "Child Bus class method.\n"
     ]
    }
   ],
   "source": [
    "class Vehicle:\n",
    "    def message(self):\n",
    "        print(\"Parent class method.\")\n",
    "        \n",
    "class Cab(Vehicle):\n",
    "    def message(self):\n",
    "        print(\"Child Cab class method.\")\n",
    "        \n",
    "class Bus(Vehicle):\n",
    "    def message(self):\n",
    "        print(\"Child Bus class method.\")\n",
    "        \n",
    "x = Vehicle()\n",
    "x.message()\n",
    "\n",
    "y = Cab()\n",
    "y.message()\n",
    "\n",
    "z = Bus()\n",
    "z.message()"
   ]
  },
  {
   "cell_type": "markdown",
   "metadata": {},
   "source": [
    "As you can see the output shown above, children classes override the parent class method."
   ]
  },
  {
   "cell_type": "markdown",
   "metadata": {},
   "source": [
    "#### Method Overloading\n",
    "It allows you to define a function or method with flexibility so that you can call it with only some of the arguments and no need to specify the other arguments. You can also call it with all the arguments. You can do it whatever the way you want.\n",
    "\n",
    "In the script below, method can be called with no parameter (ignoring phrase parameter). Or it can be called with parameter phrase."
   ]
  },
  {
   "cell_type": "code",
   "execution_count": 27,
   "metadata": {},
   "outputs": [
    {
     "name": "stdout",
     "output_type": "stream",
     "text": [
      "Welcome to Python world.\n",
      "My message -Life is beautiful\n"
     ]
    }
   ],
   "source": [
    "class Message:\n",
    "    \n",
    "    def details(self, phrase = None):\n",
    "        \n",
    "        if phrase is not None:\n",
    "            print('My message -' + phrase)\n",
    "        else:\n",
    "            print('Welcome to Python world.')\n",
    "            \n",
    "#Object\n",
    "x = Message()\n",
    "\n",
    "#Call the method with no parameter\n",
    "x.details()\n",
    "\n",
    "#Call the method with a parameter\n",
    "x.details('Life is beautiful')"
   ]
  },
  {
   "cell_type": "markdown",
   "metadata": {},
   "source": [
    "#### What is __str__?\n",
    "It is used to produce readable representation of the object."
   ]
  },
  {
   "cell_type": "code",
   "execution_count": 28,
   "metadata": {},
   "outputs": [
    {
     "name": "stdout",
     "output_type": "stream",
     "text": [
      "<__main__.Vehicle object at 0x000002389E17CF70>\n"
     ]
    }
   ],
   "source": [
    "class Vehicle:\n",
    "    def __init__(self, driver, wheels, seats):\n",
    "        self.driver = driver\n",
    "        self.noofwheels = wheels\n",
    "        self.noofseats = seats\n",
    "        \n",
    "veh_1 = Vehicle(\"Sandy\", 4, 2)\n",
    "print(veh_1)    "
   ]
  },
  {
   "cell_type": "code",
   "execution_count": 29,
   "metadata": {},
   "outputs": [
    {
     "name": "stdout",
     "output_type": "stream",
     "text": [
      "Driver Name:Sandy;Number of seats in cab2\n"
     ]
    }
   ],
   "source": [
    "class Vehicle:\n",
    "    def __init__(self, driver, wheels, seats):\n",
    "        self.driver = driver\n",
    "        self.noofwheels = wheels\n",
    "        self.noofseats = seats\n",
    "        \n",
    "    def __str__(self):\n",
    "        return \"Driver Name:\"+self.driver+\";\"+\"Number of seats in cab\"+str(self.noofseats)\n",
    "    \n",
    "veh_1 = Vehicle('Sandy', 4, 2)\n",
    "print(veh_1)"
   ]
  },
  {
   "cell_type": "markdown",
   "metadata": {},
   "source": [
    "#### Data Encapsulation\n",
    "Encapsulation of Data means restricting access to methods and variables. This can prevent the data from being modified by accident (mistake).\n",
    "1. When we use two underscores '__' before attribute name, it makes attribute not accessible outside class. It becomes private attribute which means you can't read and write to those attributes except inside of the class. It is generally used by the developer of the module.\n",
    "2. When you don't use underscore before attribute, it is a public attribute which can be accessed inside or outside of a class."
   ]
  },
  {
   "cell_type": "code",
   "execution_count": 31,
   "metadata": {},
   "outputs": [
    {
     "data": {
      "text/plain": [
       "'premium'"
      ]
     },
     "execution_count": 31,
     "metadata": {},
     "output_type": "execute_result"
    }
   ],
   "source": [
    "class Flat:\n",
    "    def __init__(self):\n",
    "        self.type = 'premium'\n",
    "        self.__bhk = \"3 BHK\"\n",
    "        \n",
    "flat_1 = Flat()\n",
    "flat_1.type"
   ]
  },
  {
   "cell_type": "code",
   "execution_count": 33,
   "metadata": {},
   "outputs": [
    {
     "ename": "AttributeError",
     "evalue": "'Flat' object has no attribute '__bhk'",
     "output_type": "error",
     "traceback": [
      "\u001b[1;31m---------------------------------------------------------------------------\u001b[0m",
      "\u001b[1;31mAttributeError\u001b[0m                            Traceback (most recent call last)",
      "\u001b[1;32m<ipython-input-33-503dbe1a2019>\u001b[0m in \u001b[0;36m<module>\u001b[1;34m\u001b[0m\n\u001b[1;32m----> 1\u001b[1;33m \u001b[0mflat_1\u001b[0m\u001b[1;33m.\u001b[0m\u001b[0m__bhk\u001b[0m\u001b[1;33m\u001b[0m\u001b[1;33m\u001b[0m\u001b[0m\n\u001b[0m",
      "\u001b[1;31mAttributeError\u001b[0m: 'Flat' object has no attribute '__bhk'"
     ]
    }
   ],
   "source": [
    "flat_1.__bhk"
   ]
  },
  {
   "cell_type": "markdown",
   "metadata": {},
   "source": [
    "In the above program, type is a public attribute and bhk is a private attribute which can't be accessed outside class."
   ]
  },
  {
   "cell_type": "markdown",
   "metadata": {},
   "source": [
    "#### Getters and Setters\n",
    "They are used for retrieving and updating value of a variable. Setter is a method that updates value of a variable. Getter is a method that reads value of a variable. Let's learn it by examples."
   ]
  },
  {
   "cell_type": "code",
   "execution_count": 34,
   "metadata": {},
   "outputs": [
    {
     "data": {
      "text/plain": [
       "'Sandy'"
      ]
     },
     "execution_count": 34,
     "metadata": {},
     "output_type": "execute_result"
    }
   ],
   "source": [
    "class Vehicle:\n",
    "    def __init__(self, driver_firstname, driver_lastname):\n",
    "        self.fdriver = driver_firstname\n",
    "        self.ldriver = driver_lastname\n",
    "        self.email = self.fdriver + '.' + self.ldriver + '@uber.com'\n",
    "    \n",
    "veh_1 = Vehicle('Sandy', 'Stewart')\n",
    "veh_1.fdriver    "
   ]
  },
  {
   "cell_type": "code",
   "execution_count": 35,
   "metadata": {},
   "outputs": [
    {
     "data": {
      "text/plain": [
       "'Sandy.Stewart@uber.com'"
      ]
     },
     "execution_count": 35,
     "metadata": {},
     "output_type": "execute_result"
    }
   ],
   "source": [
    "veh_1.email"
   ]
  },
  {
   "cell_type": "markdown",
   "metadata": {},
   "source": [
    "Here we are updating driver's first name but it does not have an impact on email address which is a combination of first and last name."
   ]
  },
  {
   "cell_type": "code",
   "execution_count": 36,
   "metadata": {},
   "outputs": [
    {
     "data": {
      "text/plain": [
       "'Tom'"
      ]
     },
     "execution_count": 36,
     "metadata": {},
     "output_type": "execute_result"
    }
   ],
   "source": [
    "veh_1.fdriver = 'Tom'\n",
    "veh_1.fdriver"
   ]
  },
  {
   "cell_type": "code",
   "execution_count": 37,
   "metadata": {},
   "outputs": [
    {
     "data": {
      "text/plain": [
       "'Sandy.Stewart@uber.com'"
      ]
     },
     "execution_count": 37,
     "metadata": {},
     "output_type": "execute_result"
    }
   ],
   "source": [
    "veh_1.email"
   ]
  },
  {
   "cell_type": "markdown",
   "metadata": {},
   "source": [
    "First name has been changed from Sandy to Tom but Email address remains same. Okay, the obvious question arises \"how to update email address as well?\". With the use of @property decorator we can change the behavior of email. email(self) is a method but it operates like a normal property. This special method is called Getters and Setters"
   ]
  },
  {
   "cell_type": "code",
   "execution_count": 38,
   "metadata": {},
   "outputs": [
    {
     "data": {
      "text/plain": [
       "'Tom.Stewart@uber.com'"
      ]
     },
     "execution_count": 38,
     "metadata": {},
     "output_type": "execute_result"
    }
   ],
   "source": [
    "class Vehicle:\n",
    "    def __init__(self, driver_firstname, driver_lastname):\n",
    "        self.fdriver = driver_firstname\n",
    "        self.ldriver = driver_lastname\n",
    "        \n",
    "    @property\n",
    "    def email(self):\n",
    "        return self.fdriver + \".\" + self.ldriver + \"@uber.com\"\n",
    "    \n",
    "veh_1 = Vehicle(\"Sandy\", \"Stewart\")\n",
    "veh_1.fdriver = \"Tom\"\n",
    "veh_1.email"
   ]
  },
  {
   "cell_type": "markdown",
   "metadata": {},
   "source": [
    "#### How to update first and last name automatically by changing email address."
   ]
  },
  {
   "cell_type": "code",
   "execution_count": 1,
   "metadata": {},
   "outputs": [
    {
     "data": {
      "text/plain": [
       "'deep'"
      ]
     },
     "execution_count": 1,
     "metadata": {},
     "output_type": "execute_result"
    }
   ],
   "source": [
    "class Vehicle:\n",
    "    def __init__(self, driver_firstname, driver_lastname):\n",
    "        self.fdriver = driver_firstname\n",
    "        self.ldriver = driver_lastname\n",
    "        \n",
    "    @property\n",
    "    def email(self):\n",
    "        return self.fdriver + '.' + self.ldriver + '@uber.com'\n",
    "    \n",
    "    @email.setter\n",
    "    def email(self, address):\n",
    "        first = address[:address.find('.')]\n",
    "        last = address[address.find('.')+1:address.find('@')]\n",
    "        self.fdriver = first\n",
    "        self.ldriver = last\n",
    "        \n",
    "veh_1 = Vehicle('Sandy', 'Stewart')\n",
    "veh_1.email = 'deep.bhalla@uber.com'\n",
    "veh_1.fdriver"
   ]
  },
  {
   "cell_type": "code",
   "execution_count": 2,
   "metadata": {},
   "outputs": [
    {
     "data": {
      "text/plain": [
       "'bhalla'"
      ]
     },
     "execution_count": 2,
     "metadata": {},
     "output_type": "execute_result"
    }
   ],
   "source": [
    "veh_1.ldriver"
   ]
  },
  {
   "cell_type": "markdown",
   "metadata": {},
   "source": [
    "#### Validation\n",
    "In real world, getters & setters are mainly used for including validation logic. In the example below, we are creating donation class with amount attribute. Amount must lie between 10 and 1,000,000. If user enters less than 10, it should be set as 10. Similarly, if user tries to enter a value greater than 1 million, it should be capped to 1 million only."
   ]
  },
  {
   "cell_type": "code",
   "execution_count": 3,
   "metadata": {},
   "outputs": [
    {
     "data": {
      "text/plain": [
       "10"
      ]
     },
     "execution_count": 3,
     "metadata": {},
     "output_type": "execute_result"
    }
   ],
   "source": [
    "class donation:\n",
    "    def __init__(self, amount):\n",
    "        self.amount = amount\n",
    "        \n",
    "    @property\n",
    "    def amount(self):\n",
    "        return self.__amount\n",
    "    \n",
    "    @amount.setter\n",
    "    def amount(self, amount):\n",
    "        if amount < 10:\n",
    "            self.__amount = 10\n",
    "        elif amount > 1000000:\n",
    "            self.__amount = 1000000\n",
    "        else:\n",
    "            self.__amount = amount\n",
    "            \n",
    "charity = donation(5)\n",
    "charity.amount"
   ]
  },
  {
   "cell_type": "markdown",
   "metadata": {},
   "source": [
    "#### How to import class\n",
    "In this section, we will cover how to load class from different file or directory."
   ]
  },
  {
   "cell_type": "markdown",
   "metadata": {},
   "source": [
    "1. Save the following script as Mymodule.py"
   ]
  },
  {
   "cell_type": "code",
   "execution_count": 4,
   "metadata": {},
   "outputs": [
    {
     "ename": "NameError",
     "evalue": "name 'Cab' is not defined",
     "output_type": "error",
     "traceback": [
      "\u001b[1;31m---------------------------------------------------------------------------\u001b[0m",
      "\u001b[1;31mNameError\u001b[0m                                 Traceback (most recent call last)",
      "\u001b[1;32m<ipython-input-4-b8318c46fff8>\u001b[0m in \u001b[0;36m<module>\u001b[1;34m\u001b[0m\n\u001b[0;32m      3\u001b[0m \"\"\"\n\u001b[0;32m      4\u001b[0m \u001b[1;33m\u001b[0m\u001b[0m\n\u001b[1;32m----> 5\u001b[1;33m \u001b[1;32mclass\u001b[0m \u001b[0mCab\u001b[0m\u001b[1;33m:\u001b[0m\u001b[1;33m\u001b[0m\u001b[1;33m\u001b[0m\u001b[0m\n\u001b[0m\u001b[0;32m      6\u001b[0m \u001b[1;33m\u001b[0m\u001b[0m\n\u001b[0;32m      7\u001b[0m     \u001b[1;31m#Initialise for first iteration.\u001b[0m\u001b[1;33m\u001b[0m\u001b[1;33m\u001b[0m\u001b[1;33m\u001b[0m\u001b[0m\n",
      "\u001b[1;32m<ipython-input-4-b8318c46fff8>\u001b[0m in \u001b[0;36mCab\u001b[1;34m()\u001b[0m\n\u001b[0;32m     26\u001b[0m \u001b[1;33m\u001b[0m\u001b[0m\n\u001b[0;32m     27\u001b[0m         \u001b[1;31m#Cab class\u001b[0m\u001b[1;33m\u001b[0m\u001b[1;33m\u001b[0m\u001b[1;33m\u001b[0m\u001b[0m\n\u001b[1;32m---> 28\u001b[1;33m         \u001b[0mfirstcab\u001b[0m \u001b[1;33m=\u001b[0m \u001b[0mCab\u001b[0m\u001b[1;33m(\u001b[0m\u001b[1;34m\"Ramesh\"\u001b[0m\u001b[1;33m,\u001b[0m \u001b[1;36m80\u001b[0m\u001b[1;33m,\u001b[0m \u001b[1;36m1200\u001b[0m\u001b[1;33m)\u001b[0m\u001b[1;33m\u001b[0m\u001b[1;33m\u001b[0m\u001b[0m\n\u001b[0m\u001b[0;32m     29\u001b[0m \u001b[1;33m\u001b[0m\u001b[0m\n\u001b[0;32m     30\u001b[0m         \u001b[1;31m#Driver attribute in cab class\u001b[0m\u001b[1;33m\u001b[0m\u001b[1;33m\u001b[0m\u001b[1;33m\u001b[0m\u001b[0m\n",
      "\u001b[1;31mNameError\u001b[0m: name 'Cab' is not defined"
     ]
    }
   ],
   "source": [
    "\"\"\"\n",
    "Car Class\n",
    "\"\"\"\n",
    "\n",
    "class Cab:\n",
    "    \n",
    "    #Initialise for first iteration.\n",
    "    numberofcabs = 0\n",
    "    \n",
    "    def __init__(self, driver, kms, pay):\n",
    "        self.driver = driver\n",
    "        self.running = kms\n",
    "        self.bill = pay\n",
    "        Cab.numberofcabs = Cab.numberofcabs + 1\n",
    "        \n",
    "    #Returns average price per km\n",
    "    def rateperkm(self):\n",
    "        return self.bill/self.running\n",
    "    \n",
    "    #Return number of cabs running\n",
    "    @classmethod\n",
    "    def noofcabs(cls):\n",
    "        return cls.numberofcabs\n",
    "    \n",
    "    if __name__ == \"__main__\":\n",
    "        \n",
    "        #Cab class\n",
    "        firstcab = Cab(\"Ramesh\", 80, 1200)\n",
    "        \n",
    "        #Driver attribute in cab class\n",
    "        print(firstcab.driver)\n",
    "        \n",
    "        #class method\n",
    "        print(Cab.noofcabs())"
   ]
  },
  {
   "cell_type": "markdown",
   "metadata": {},
   "source": [
    "2. In the code below, specify directory where Mymodule.py file is stored."
   ]
  },
  {
   "cell_type": "code",
   "execution_count": 5,
   "metadata": {},
   "outputs": [],
   "source": [
    "import os\n",
    "os.chdir(\"C:/Users/HP/Oops\")\n",
    "import Mymodule"
   ]
  },
  {
   "cell_type": "markdown",
   "metadata": {},
   "source": [
    "3. Create object or run methods like we normally do. Make sure to add module name as prefix before using class and class method"
   ]
  },
  {
   "cell_type": "code",
   "execution_count": 7,
   "metadata": {},
   "outputs": [
    {
     "data": {
      "text/plain": [
       "2"
      ]
     },
     "execution_count": 7,
     "metadata": {},
     "output_type": "execute_result"
    }
   ],
   "source": [
    "#Cab class in Mymodule.py\n",
    "firstCab = Mymodule.Cab(\"Ramesh\", 80, 1200)\n",
    "\n",
    "#Driver attribute in cab class\n",
    "firstCab.driver\n",
    "\n",
    "#rateperkm instance method in Mymodule2.py\n",
    "firstcab.rateperkm()\n",
    "\n",
    "#noofcabs classmethod in Mymodule2.py\n",
    "Mymodule.Cab.noofcabs()"
   ]
  },
  {
   "cell_type": "markdown",
   "metadata": {},
   "source": [
    "To avoid writing module name to access class, you can use \"from\" which loads module into the current namespace."
   ]
  },
  {
   "cell_type": "code",
   "execution_count": 9,
   "metadata": {},
   "outputs": [],
   "source": [
    "from Mymodule import*\n",
    "firstcab = Cab(\"Sandy\", 80, [\"Delhi\", \"Noida\"])"
   ]
  },
  {
   "cell_type": "markdown",
   "metadata": {},
   "source": [
    "#### What is __name__ == \"__main__\"?\n",
    "Any code that is inside if __name__ == '__main__': will be executed when you run your .py file directly (from terminal).\n",
    "\n",
    "If you import module import Mymodule, the code inside if __name__ == '__main__': won't be run.\n",
    "\n",
    "To test this, save and run the following script from terminal as well as accessing it using import command."
   ]
  },
  {
   "cell_type": "code",
   "execution_count": 10,
   "metadata": {},
   "outputs": [
    {
     "name": "stdout",
     "output_type": "stream",
     "text": [
      "First Result\n"
     ]
    }
   ],
   "source": [
    "if __name__ == '__main__':\n",
    "    print(\"First Result\")\n",
    "    \n",
    "else:\n",
    "    print(\"Second Result\")"
   ]
  },
  {
   "cell_type": "code",
   "execution_count": null,
   "metadata": {},
   "outputs": [],
   "source": []
  }
 ],
 "metadata": {
  "kernelspec": {
   "display_name": "Python 3",
   "language": "python",
   "name": "python3"
  },
  "language_info": {
   "codemirror_mode": {
    "name": "ipython",
    "version": 3
   },
   "file_extension": ".py",
   "mimetype": "text/x-python",
   "name": "python",
   "nbconvert_exporter": "python",
   "pygments_lexer": "ipython3",
   "version": "3.8.5"
  }
 },
 "nbformat": 4,
 "nbformat_minor": 4
}
